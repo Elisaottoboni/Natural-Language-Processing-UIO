{
 "cells": [
  {
   "cell_type": "markdown",
   "metadata": {},
   "source": [
    "# IN4080: obligatory assignment 4\n",
    " \n",
    "The final mandatory assignment for IN4080 consists of two parts. The first is about the development of dialogue systems, and the second about machine translation.\n",
    "You are required to get at least 12/20 points to pass. \n",
    "\n",
    "- We assume that you have read and are familiar with IFI’s requirements and guidelines for mandatory assignments, see [here](https://www.uio.no/english/studies/examinations/compulsory-activities/mn-ifi-mandatory.html) and [here](https://www.uio.no/english/studies/examinations/compulsory-activities/mn-ifi-guidelines.html).\n",
    "- This is an individual assignment. You should not deliver joint submissions. \n",
    "- You may redeliver in Devilry before the deadline (__Sunday, November 3 at 23:59__).\n",
    "- Only the last delivery will be read! If you deliver more than one file, put them into a zip-archive. You don't have to include in your delivery the data files already provided for this assignment. \n",
    "- Name your submission _your\\_username\\_in4080\\_mandatory\\_4_\n",
    "\n",
    "Part 1 should be done on your local computer, as it relies on a speech interface that will not work on remote machines. For Part 2, using _Fox_ is preferable, at least for the fine-tuning task.\n",
    "\n",
    "You should deliver a completed version of this Jupyter notebook, containing both your code and explanations about the steps you followed. We want to stress that simply submitting code is __not__ by itself sufficient to complete the assignment - we expect the notebook to also contain explanations of what you have implemented, along with motivations for the choices you made along the way. Preferably use whole sentences, and mathematical formulas if necessary. Explaining in your own words (using concepts we have covered through in the lectures) what you have implemented and reflecting on your solution is an important part of the learning process - take it seriously!\n",
    "\n",
    "Regarding the use of LLMs (ChatGPT or similar): you are allowed to use them as 'sparring partner', for instance to clarify something you have not understood. However, you are __not__ allowed to use them to generate solutions (either in part or in full) to the assignment tasks. \n"
   ]
  },
  {
   "cell_type": "markdown",
   "metadata": {},
   "source": [
    "## Part 1 : Dialogue systems"
   ]
  },
  {
   "cell_type": "markdown",
   "metadata": {},
   "source": [
    "Our objective in this part is to build a spoken conversational interface for a (simulated) elevator. \n",
    "\n",
    "### Basic setup\n",
    "\n",
    "First, let's make sure that we have all the necessary Python modules:"
   ]
  },
  {
   "cell_type": "code",
   "execution_count": null,
   "metadata": {},
   "outputs": [],
   "source": [
    "# !pip3 install ipywidgets pyaudio openai-whisper pyttsx3 setfit spacy jellyfish\n",
    "# !python3 -m spacy download en_core_web_sm"
   ]
  },
  {
   "cell_type": "markdown",
   "metadata": {},
   "source": [
    "The code for the simulated elevator is provided below. The elevator is displayed using simple widgets (where the current floor is shown in green). "
   ]
  },
  {
   "cell_type": "code",
   "execution_count": null,
   "metadata": {},
   "outputs": [],
   "source": [
    "import ipywidgets as widgets\n",
    "from IPython.display import display\n",
    "\n",
    "import time, random, string, threading\n",
    "from typing import List, Tuple, Dict, Set\n",
    "\n",
    "class BasicElevator:\n",
    "    \"\"\"Elevator simulated using a GUI\"\"\"\n",
    "    \n",
    "    def __init__(self, start_floor:int =1, nb_floors=10):\n",
    "        \"\"\"Initialised a new elevator, placed on the first floor\"\"\"\n",
    "        \n",
    "        # Current floor of the elevator\n",
    "        self.cur_floor: int = start_floor\n",
    "\n",
    "        # (Possibly empty) list of next floor stops to reach \n",
    "        self.next_stops : List[int] = []\n",
    "        \n",
    "        # Building the basic GUI showing the elevator\n",
    "        display(self._build_gui(nb_floors))\n",
    "\n",
    "        # Starts the thread executing the movements\n",
    "        thread = threading.Thread(target=self.elevator_move_thread)\n",
    "        thread.start()     \n",
    "            \n",
    "    def move_to_floor(self, floor_number : int):\n",
    "        \"\"\"Move to a given floor (by adding it to a stack of floors to reach)\"\"\"\n",
    "        \n",
    "        if floor_number < 1 or floor_number > len(self.floors):\n",
    "            raise RuntimeError(\"Floor number must be between 1 and %i\"%len(self.floors))\n",
    "\n",
    "        self.next_stops.append(floor_number)\n",
    "        \n",
    "        \n",
    "    def stop(self):\n",
    "        \"\"\"Stops all movements of the elevator\"\"\"\n",
    "        self.next_stops.clear()\n",
    "\n",
    "    def _build_gui(self, nb_floors):\n",
    "        \"\"\"Creates the GUI for the elevator, with a status label and a visual representation\n",
    "        of the floors, where the current floor is indicated in green.\"\"\"\n",
    "\n",
    "        # Displaying the current status of the elevator (still or going up or down)\n",
    "        status_label = widgets.HTML(\"<b>Status</b>: \")\n",
    "        self.status = widgets.Label(\"Still\")\n",
    "        status_box = widgets.HBox([status_label, self.status])\n",
    "\n",
    "        # Displaying the floors on a vertical axis\n",
    "        self.floors = []\n",
    "        floor_layout = widgets.Layout(width='50px', height='30px', border='2px solid black',justify_content=\"center\")\n",
    "        for i in range(1, nb_floors+1):\n",
    "            floor = widgets.Label(value=str(i), layout=floor_layout)\n",
    "            floor.style = {\"background\":(\"white\" if i!=self.cur_floor else \"lightgreen\")}\n",
    "            self.floors.append(floor)\n",
    "\n",
    "        # Create a vertical box container to hold the boxes\n",
    "        vbox = widgets.VBox([status_box] + self.floors[::-1])\n",
    "        return vbox\n",
    "    \n",
    "\n",
    "    def elevator_move_thread(self, speed=1.0, latency=0.1):\n",
    "        \"\"\"Trigger a movement of the elevator if the list of next stops is not \n",
    "        empty. The movement continues until all goals are reached.\"\"\"\n",
    "\n",
    "        while True:\n",
    "            while self.next_stops:\n",
    "                if self.cur_floor == self.next_stops[0]:\n",
    "                    del self.next_stops[0]\n",
    "                    continue\n",
    "                if self.cur_floor < self.next_stops[0]:\n",
    "                    next_floor = self.cur_floor+1\n",
    "                    self.status.value = \"UP\"\n",
    "                elif self.cur_floor > self.next_stops[0]:\n",
    "                    next_floor = self.cur_floor-1\n",
    "                    self.status.value = \"DOWN\"\n",
    "                time.sleep(speed)   \n",
    "                self.floors[self.cur_floor-1].style.background = \"white\"\n",
    "                self.floors[next_floor-1].style.background = \"lightgreen\"\n",
    "                self.cur_floor = next_floor\n",
    "            self.status.value = \"Still\"\n",
    "            \n",
    "            # Wait loop (until we have a goal in self.next_stops)\n",
    "            time.sleep(latency)"
   ]
  },
  {
   "cell_type": "markdown",
   "metadata": {},
   "source": [
    "The elevator can be easily controlled through the functions `move_to_floor` and `stop`:"
   ]
  },
  {
   "cell_type": "code",
   "execution_count": null,
   "metadata": {},
   "outputs": [],
   "source": [
    "elevator = BasicElevator()\n",
    "elevator.move_to_floor(6)"
   ]
  },
  {
   "cell_type": "markdown",
   "metadata": {},
   "source": [
    "We will now make our elevator controllable through a speech interface instead of using function calls.\n",
    "\n",
    "## Speech interface\n",
    "\n",
    "First, make sure that you have installed `pyaudio` (for audio processing), `whisper` (for speech recognition), and `pyttsx3` (for speech synthesis).\n",
    "\n",
    "The `TalkingElevator` class below extends the basic simulated elevator with speech input and output. \n",
    "\n",
    "Upon clicking on the recording button, speech is recorded from the user's microphone, and continues until the stop button is clicked. The speech recognition engine `Whisper` from OpenAI is then employed to transcribe the spoken input (either on GPU, if you have a GPU on your machine, or on CPU). The transcription result is then sent to the `process_input` function, which is responsible for determining the system response. \n",
    "\n",
    "We are going to focus on implementing this `process_input` method. Note this system reaction to new user inputs may comprise both verbal responses (to be uttered by the system through the `_say_to_user` method) and physical actions (through the `move_to_floor` and `stop` methods)."
   ]
  },
  {
   "cell_type": "code",
   "execution_count": null,
   "metadata": {},
   "outputs": [],
   "source": [
    "# !pip install pyttsx3 pyaudio openai-whisper\n",
    "# !pip install pyttsx3 speechrecognition openai-whisper"
   ]
  },
  {
   "cell_type": "code",
   "execution_count": 30,
   "metadata": {},
   "outputs": [],
   "source": [
    "import threading, time\n",
    "import numpy as np\n",
    "from typing import List, Tuple, Dict, Set\n",
    "import whisper, pyttsx3#, pyaudio, \n",
    "import warnings\n",
    "warnings.simplefilter(action='ignore', category=FutureWarning)\n",
    "\n",
    "class TalkingElevator(BasicElevator):\n",
    "    \"\"\"Extension of the simulated elevator with a speech interface\"\"\"\n",
    "    \n",
    "    def __init__(self):\n",
    "        print(\"Loading TTS and ASR models\", end=\"...\", flush=True)\n",
    "        self.tts_engine = pyttsx3.init()  \n",
    "        self.asr_engine = whisper.load_model(\"small.en\")\n",
    "        print(\"Done\")\n",
    "        \n",
    "        # Initializing the GUI\n",
    "        BasicElevator.__init__(self)\n",
    "\n",
    "        # Starts the dialogue\n",
    "        self.dialogue_history = []\n",
    "        self._say_to_user(\"Hi, what can I do for you today?\")\n",
    "    \n",
    "\n",
    "    def process_input(self, user_input: str, conf_score:float=1.0):\n",
    "        \"\"\"Processes the (transcribed) user input, and respond appropriately \n",
    "        (through a verbal response and possibly also an action, such as moving floors)\"\"\"\n",
    "\n",
    "        self._add_to_dialogue_history(user_input, speaker=\"user\", conf_score=conf_score)\n",
    "\n",
    "        # Dummy response. Should be replaced by the actual dialogue behaviour\n",
    "        if \"floor\" in user_input.lower():\n",
    "            floor_number = self._extract_floor_number(user_input)\n",
    "        if floor_number:\n",
    "            self._say_to_user(f\"Okay, moving to floor {floor_number}.\")\n",
    "            self.move_to_floor(floor_number)\n",
    "        else:\n",
    "            self._say_to_user(\"Sorry, I didn't catch the floor number.\")\n",
    "\n",
    "    \n",
    "    def _say_to_user(self, system_response: str):\n",
    "        \"\"\"Say something back to the user, and add the dialogue turn to the history. The \n",
    "        synthesis is done using the pyttsx3 library.\"\"\"\n",
    "\n",
    "        self._add_to_dialogue_history(system_response, speaker=\"elevator\")\n",
    "        \n",
    "        # Stopping current TTS if one is active\n",
    "        try:\n",
    "            self.tts_engine.endLoop()\n",
    "        except:\n",
    "            pass\n",
    "        self.tts_engine.say(system_response)\n",
    "        self.tts_engine.runAndWait()\n",
    "\n",
    "\n",
    "    def _add_to_dialogue_history(self, turn:str , speaker:str, conf_score:float=1.0):\n",
    "        \"\"\"Adds a new (user or system) turn to the dialogue history list, and displays it\n",
    "            on the chat window displaying the turns\"\"\"\n",
    "\n",
    "        self.dialogue_history.append({\"speaker\":speaker, \"text\":turn, \n",
    "                                        \"conf_score\":conf_score, \"timesamp\":time.time()})\n",
    "        \n",
    "        self.history_area.value += \"&nbsp;<strong>%s</strong>:  %s\"%(speaker.title(), turn)\n",
    "        if conf_score < 1.0:\n",
    "            self.history_area.value += \" (%.2f)\"%(conf_score)\n",
    "        self.history_area.value += \"<br>\"\n",
    "\n",
    "    def _build_gui(self, nb_floors):\n",
    "        \"\"\"GUI for the Talking elevator, comprising (beyond the simulated elevator from \n",
    "        BasicElevator) a chat window showing the dialogue turns, and buttons to record\n",
    "        the user input. \n",
    "        The user should first click on the record button, then on stop when they have finished.\n",
    "        Once the stop button is clicked, the audio is transcribed by Whisper, and finally \n",
    "        forwarded to the process_input function.\"\"\"\n",
    "\n",
    "        core_gui = BasicElevator._build_gui(self, nb_floors)\n",
    "\n",
    "        self.frames = []\n",
    "        self.recording = False\n",
    "\n",
    "        def record(chunk_size=1024):\n",
    "            \"\"\"Record audio chunks to a buffer.\"\"\"\n",
    "            self.recording = True\n",
    "            p = pyaudio.PyAudio()\n",
    "            stream = p.open(format=pyaudio.paInt16, channels=1, rate=16000, input=True, \n",
    "                            frames_per_buffer=chunk_size)\n",
    "            while self.recording:\n",
    "                self.frames.append(stream.read(chunk_size))\n",
    "            stream.close()\n",
    "\n",
    "        def on_record_button_clicked(b):\n",
    "            \"Starts the recording\"\n",
    "            record_button.disabled=True\n",
    "            stop_button.disabled=False\n",
    "            self.frames = []  # Clear previous recordings\n",
    "            thread = threading.Thread(target=record)\n",
    "            thread.start()\n",
    "\n",
    "        def on_stop_button_clicked(b):\n",
    "            \"stops the recording, runs Whisper, and forward the result to process_input\"\n",
    "            self.recording = False\n",
    "            record_button.disabled=False\n",
    "            stop_button.disabled=True\n",
    "            audio_data = np.frombuffer(b\"\".join(self.frames), np.int16).astype(np.float32) * (1 / 32768.0)\n",
    "            output = self.asr_engine.transcribe(audio_data)\n",
    "\n",
    "            # We define the confidence score based on the log-probabilities\n",
    "            conf_score = np.exp(np.mean([segment[\"avg_logprob\"] for segment in output[\"segments\"]]))\n",
    "            # (and we push those up a bit, as the Whisper scores seem too low)\n",
    "            conf_score = min(1, conf_score*1.2)\n",
    "\n",
    "            # Finally, we process the input\n",
    "            self.process_input(output[\"text\"], conf_score)\n",
    "\n",
    "        # The record and stop buttons\n",
    "        record_button = widgets.Button(icon=\"microphone\")\n",
    "        stop_button = widgets.Button(icon=\"stop\", disabled=True)\n",
    "        record_button.on_click(on_record_button_clicked)\n",
    "        stop_button.on_click(on_stop_button_clicked)\n",
    "        \n",
    "        # The chat area\n",
    "        self.history_area = widgets.HTML(layout=widgets.Layout(width=\"600px\", height=\"300px\", \n",
    "                                                               border='1px solid black', overflow='scroll'))\n",
    "\n",
    "        # The right side of the GUI\n",
    "        right_side = widgets.VBox([widgets.Label(\"\"), self.history_area, widgets.HBox([record_button, stop_button])])\n",
    "        \n",
    "        extended_gui = widgets.HBox([core_gui, right_side])\n",
    "        return extended_gui\n"
   ]
  },
  {
   "cell_type": "markdown",
   "metadata": {},
   "source": [
    "Let's give it a try:"
   ]
  },
  {
   "cell_type": "code",
   "execution_count": null,
   "metadata": {},
   "outputs": [],
   "source": [
    "elevator = TalkingElevator()"
   ]
  },
  {
   "cell_type": "code",
   "execution_count": null,
   "metadata": {},
   "outputs": [],
   "source": [
    "# import certifi\n",
    "# import ssl\n",
    "# print(certifi.where())"
   ]
  },
  {
   "cell_type": "code",
   "execution_count": null,
   "metadata": {},
   "outputs": [],
   "source": [
    "# import os\n",
    "\n",
    "# os.environ[\"SSL_CERT_FILE\"] = \"/Library/Frameworks/Python.framework/Versions/3.12/lib/python3.12/site-packages/certifi/cacert.pem\""
   ]
  },
  {
   "cell_type": "markdown",
   "metadata": {},
   "source": [
    "We hope that the speech recognition and speech synthesis will work correctly -- if it isn't the case, do let us know ! (audio processing in Python can be quite tricky and will work differently from OS to OS). [^1]\n",
    "\n",
    "[^1]: If you are running on Linux and the TTS is not working, install the following packages on your machine: `sudo apt update && sudo apt install espeak ffmpeg libespeak1`\n",
    "\n",
    "**Note**: The current implementation reloads the TTS and ASR models every time, which means that you may run into a \"CUDA: out of memory\" error if you reinitialise the `TalkingElevator` many times. If this happens, simply restart the Python kernel, which will clear the memory on both the CPU and the GPU. "
   ]
  },
  {
   "cell_type": "markdown",
   "metadata": {},
   "source": [
    "\n",
    "### Intent recognition\n",
    "\n",
    "We wish our talking elevator to support the following functionalities:\n",
    " \n",
    "- If the user express a wish to go to floor $X$ (where $X$ is an integer value between 1 and 10), the elevator should go to that floor. The interface should allow for several ways to express a given intent, such as \"_Please go to the $X$-th floor_\" or \"_Floor $X$, please_\".\n",
    "- The user requests can also be relative, for instance \"_Go one floor up_\".\n",
    "- The elevator should provide _grounding_ feedback to the user. For instance, it should respond \"_Ok, going to the $X$-th floor_\" after a user request to move to $X$.  \n",
    "- The elevator should handle misunderstandings and uncertainties, e.g. by requesting the user to repeat, or asking the user to confirm if the intent is uncertain (say, when its confidence score is lower than 0.5). \n",
    "- The elevator should also allow the user to ask where the office of a given employee is located. For instance, the user could ask \"_where is Erik Velldal's office?_\", and the elevator would provide a response such as \"_The office of Erik Velldal is on the 4th floor. Do you wish to go there?_\".  We provide you with the office numbers of a small set of IFI employees in the `OFFICES` dictionary (see below).\n",
    "- The elevator should also be able to inform the user about the current floor (such as replying to \"_Which floor are we on?_\" or \"_Are we on the 5th floor?_\"). \n",
    "- Finally, if the user asks the elevator to stop (or if the user says \"_no_\" after a grounding feedback \"_Ok, going to floor $X$._\"), the elevator should stop, and ask for clarification regarding the actual user intent. \n",
    "\n",
    "To implement this conversational behaviour, we will rely on a classical NLU-based approach in which we will recognise the user _intent_, and then determine a response based on the recognised intent(s). \n",
    "\n",
    "__Task 1.1__ (1 point): You first need to define a list of user intents that cover the kinds of user inputs you expect to observe in this talking elevator, such as `RequestMoveToFloor` or `Confirm`. This is a design question, and there is no obvious right or wrong answer. Define below the intents you want to cover, along with an explanation and a few examples of user inputs for each.\n"
   ]
  },
  {
   "cell_type": "code",
   "execution_count": 5,
   "metadata": {},
   "outputs": [],
   "source": [
    "user_intents = [\n",
    "    \"Please go to the 1st floor.\",\n",
    "    \"Floor 5, please.\",\n",
    "    \"I want to go to floor 7.\",\n",
    "    \"Go one floor up.\",\n",
    "    \"Take me to the 2nd floor.\",\n",
    "    \"What floor is this?\",\n",
    "    \"Can you tell me where Anna's office is?\",\n",
    "    \"I need to find Lars' office.\",\n",
    "    \"Did you mean the 5th floor?\",\n",
    "    \"Are you asking to go to the 7th floor?\",\n",
    "    \"Stop!\",\n",
    "    \"No, I changed my mind.\",\n",
    "    \"Wait, I don’t want to go to that floor.\",\n",
    "    \"I’m not sure what you meant. Can you say that again?\"\n",
    "]"
   ]
  },
  {
   "cell_type": "markdown",
   "metadata": {},
   "source": [
    "__Task 1.2__ (1 points): We wish to build a classifier any user input to a probability distribution over those intents, and start by creating a small, synthetic training set. Make a list of about 100 user utterances, each labelled with an intent defined above. You can \"make up\" those utterances yourself, or ask someone else to come with alternative formulations if you lack inspiration."
   ]
  },
  {
   "cell_type": "code",
   "execution_count": 6,
   "metadata": {},
   "outputs": [],
   "source": [
    "labelled_utterances = [\n",
    "    (\"Please go to the 3rd floor.\", \"RequestMoveToFloor\"),\n",
    "    (\"Floor 7, please.\", \"RequestMoveToFloor\"),\n",
    "    (\"I want to go to the 5th floor.\", \"RequestMoveToFloor\"),\n",
    "    (\"Can you take me to the 2nd floor?\", \"RequestMoveToFloor\"),\n",
    "    (\"Go one floor up.\", \"RequestMoveToFloor\"),\n",
    "    (\"Take me to floor 8.\", \"RequestMoveToFloor\"),\n",
    "    (\"I need to go to the 1st floor.\", \"RequestMoveToFloor\"),\n",
    "    (\"Go down to the 4th floor.\", \"RequestMoveToFloor\"),\n",
    "    (\"I'd like to reach the 10th floor.\", \"RequestMoveToFloor\"),\n",
    "    (\"Could you bring me to the 6th floor?\", \"RequestMoveToFloor\"),\n",
    "    (\"Let's go to floor 9!\", \"RequestMoveToFloor\"),\n",
    "    (\"One floor down, please.\", \"RequestMoveToFloor\"),\n",
    "    (\"I want to go to the roof.\", \"RequestMoveToFloor\"),\n",
    "    (\"Can you take me to the basement?\", \"RequestMoveToFloor\"),\n",
    "    (\"Head to floor number 3.\", \"RequestMoveToFloor\"),\n",
    "    (\"Up to the 2nd floor, please.\", \"RequestMoveToFloor\"),\n",
    "    (\"Get me to the 5th floor, please.\", \"RequestMoveToFloor\"),\n",
    "    (\"I need to go to the 4th floor now.\", \"RequestMoveToFloor\"),\n",
    "    (\"Let's go to the ground floor.\", \"RequestMoveToFloor\"),\n",
    "    (\"Please take me to floor 1.\", \"RequestMoveToFloor\"),\n",
    "    \n",
    "    (\"Ok, going to the 4th floor.\", \"GroundingFeedback\"),\n",
    "    (\"Sure, I will take you to the 2nd floor now.\", \"GroundingFeedback\"),\n",
    "    (\"Got it, heading to the 5th floor.\", \"GroundingFeedback\"),\n",
    "    (\"Alright, going to floor 7.\", \"GroundingFeedback\"),\n",
    "    (\"Okay, I’ll take you to the 3rd floor.\", \"GroundingFeedback\"),\n",
    "    \n",
    "    (\"Which floor are we on?\", \"RequestCurrentFloor\"),\n",
    "    (\"Are we on the 3rd floor?\", \"RequestCurrentFloor\"),\n",
    "    (\"What floor is this?\", \"RequestCurrentFloor\"),\n",
    "    (\"Can you tell me what floor we're currently on?\", \"RequestCurrentFloor\"),\n",
    "    (\"Please let me know the current floor.\", \"RequestCurrentFloor\"),\n",
    "    (\"Am I on the 6th floor right now?\", \"RequestCurrentFloor\"),\n",
    "    \n",
    "    (\"Where is Erik Velldal's office?\", \"RequestEmployeeLocation\"),\n",
    "    (\"Can you tell me where Anna's office is?\", \"RequestEmployeeLocation\"),\n",
    "    (\"I need to find Lars' office.\", \"RequestEmployeeLocation\"),\n",
    "    (\"Where can I find the office of Erik Velldal?\", \"RequestEmployeeLocation\"),\n",
    "    (\"Could you point me to Anna's office?\", \"RequestEmployeeLocation\"),\n",
    "    (\"I am looking for Lars' office, where is it?\", \"RequestEmployeeLocation\"),\n",
    "    (\"Tell me where Erik Velldal works.\", \"RequestEmployeeLocation\"),\n",
    "    (\"Where can I find the office of Anna?\", \"RequestEmployeeLocation\"),\n",
    "    \n",
    "    (\"Did you mean the 5th floor?\", \"Confirm\"),\n",
    "    (\"Are you asking to go to the 7th floor?\", \"Confirm\"),\n",
    "    (\"Is it correct that you want to go to the 2nd floor?\", \"Confirm\"),\n",
    "    (\"Are you sure you want to go to floor 9?\", \"Confirm\"),\n",
    "    (\"Did you say the 10th floor?\", \"Confirm\"),\n",
    "    \n",
    "    (\"Stop!\", \"RequestStop\"),\n",
    "    (\"No, I changed my mind.\", \"RequestStop\"),\n",
    "    (\"Wait, I don’t want to go to that floor.\", \"RequestStop\"),\n",
    "    (\"Please stop here.\", \"RequestStop\"),\n",
    "    (\"I want to get off now!\", \"RequestStop\"),\n",
    "\n",
    "    (\"I didn't catch that, could you repeat?\", \"HandleMisunderstanding\"),\n",
    "    (\"I’m not sure what you meant. Can you say that again?\", \"HandleMisunderstanding\"),\n",
    "    (\"Can you clarify that?\", \"HandleMisunderstanding\"),\n",
    "    (\"I don't understand, please repeat.\", \"HandleMisunderstanding\"),\n",
    "    (\"What did you say? I didn't hear you.\", \"HandleMisunderstanding\"),\n",
    "    \n",
    "    # Additional utterances for each intent\n",
    "    (\"Go to the 8th floor now.\", \"RequestMoveToFloor\"),\n",
    "    (\"Can we go to the 4th floor?\", \"RequestMoveToFloor\"),\n",
    "    (\"Elevator, go up one floor.\", \"RequestMoveToFloor\"),\n",
    "    \n",
    "    (\"Understood, heading to the 9th floor.\", \"GroundingFeedback\"),\n",
    "    (\"Okay, we will go to floor 1.\", \"GroundingFeedback\"),\n",
    "    \n",
    "    (\"What floor are we on right now?\", \"RequestCurrentFloor\"),\n",
    "    (\"Could you tell me the current level?\", \"RequestCurrentFloor\"),\n",
    "    \n",
    "    (\"Where's Lars' office located?\", \"RequestEmployeeLocation\"),\n",
    "    (\"I need to know where Erik's office is.\", \"RequestEmployeeLocation\"),\n",
    "    \n",
    "    (\"You meant the 8th floor, right?\", \"Confirm\"),\n",
    "    (\"So, you want to go to the 3rd floor?\", \"Confirm\"),\n",
    "    \n",
    "    (\"Please halt the elevator.\", \"RequestStop\"),\n",
    "    (\"Stop going up!\", \"RequestStop\"),\n",
    "    \n",
    "    (\"I don't get what you said, please repeat it.\", \"HandleMisunderstanding\"),\n",
    "    (\"Sorry, I didn’t catch that, could you say it again?\", \"HandleMisunderstanding\"),\n",
    "\n",
    "    # Additional examples for diverse utterances\n",
    "    (\"Bring me to the 5th floor.\", \"RequestMoveToFloor\"),\n",
    "    (\"Let's stop here for a moment.\", \"RequestStop\"),\n",
    "    (\"Can you stop the elevator, please?\", \"RequestStop\"),\n",
    "    (\"Where is Anna's office on campus?\", \"RequestEmployeeLocation\"),\n",
    "    (\"Confirm if I should go to the 3rd floor.\", \"Confirm\"),\n",
    "    (\"Where are we now?\", \"RequestCurrentFloor\"),\n",
    "    (\"Go down to the first floor, please.\", \"RequestMoveToFloor\"),\n",
    "    (\"I want to go up to the 6th floor.\", \"RequestMoveToFloor\"),\n",
    "    (\"Show me where Erik's office is.\", \"RequestEmployeeLocation\"),\n",
    "    (\"Let me know which floor this is.\", \"RequestCurrentFloor\"),\n",
    "    (\"I'm trying to find Lars' office.\", \"RequestEmployeeLocation\"),\n",
    "    (\"Could you stop for a moment?\", \"RequestStop\"),\n",
    "    (\"I need to go to the roof, please.\", \"RequestMoveToFloor\"),\n",
    "    (\"I want to get off on the ground floor.\", \"RequestMoveToFloor\"),\n",
    "    (\"What level are we on?\", \"RequestCurrentFloor\"),\n",
    "    (\"I want to go to the 10th floor now.\", \"RequestMoveToFloor\"),\n",
    "    (\"Could you take me down one floor?\", \"RequestMoveToFloor\"),\n",
    "    (\"Stop at the next floor.\", \"RequestStop\"),\n",
    "    (\"I need to confirm my floor.\", \"Confirm\"),\n",
    "    (\"Do you mean floor 2?\", \"Confirm\"),\n",
    "    (\"I want to go to floor 7, is that correct?\", \"Confirm\"),\n",
    "    (\"Please repeat that, I didn’t hear you.\", \"HandleMisunderstanding\"),\n",
    "    (\"What floor are we supposed to go to?\", \"HandleMisunderstanding\"),\n",
    "]"
   ]
  },
  {
   "cell_type": "markdown",
   "metadata": {},
   "source": [
    "We will now train an intent classifier based on the labelled utterances you have defined. To do so, we will rely on the [SetFit](https://huggingface.co/docs/setfit/index) library, which allows one to easily train a text classification model from few examples by fine-tuning a sentence-transformer model (like the ones we used in oblig 2 and 3). Make sure that the `setfit` library is installed (`pip install setfit`).\n",
    "\n",
    "Read the [Setfit quickstart guide](https://huggingface.co/docs/setfit/quickstart) to find out how to use the library.\n",
    "\n",
    "__Task 1.3__ (2 points): Implement the `__init__`, `train` and `get_intent_distrib` methods of the `IntentClassifier` class below. The classifier should rely on a `Setfit` model trained on the labelled utterances you have already defined. "
   ]
  },
  {
   "cell_type": "code",
   "execution_count": 12,
   "metadata": {},
   "outputs": [],
   "source": [
    "import setfit, datasets\n",
    "from typing import List, Tuple, Dict\n",
    "\n",
    "class IntentClassifier:\n",
    "\n",
    "    def __init__(self, model_name=\"sentence-transformers/paraphrase-mpnet-base-v2\"):\n",
    "        \"\"\"Initialises the setfit model that will be used for the intent recognition\"\"\"\n",
    "        self.model = setfit.SetFitModel.from_pretrained(model_name)\n",
    "    \n",
    "    def train(self, labelled_utterances: List[Tuple[str,str]]):\n",
    "        \"\"\"Trains the setfit model on the labelled utterances\"\"\"\n",
    "        \n",
    "        train_data = datasets.Dataset.from_list([{\"text\":utt, \"label\":label} \n",
    "                                                    for utt,label in labelled_utterances])\n",
    "        self.model.fit(train_data)\n",
    "    \n",
    "    def get_intent_distrib(self, utterance:str):\n",
    "        \"\"\"Applies the trained model on a new utterance. The method should return a\n",
    "        dictionary that maps each possible intent category to a probability.\"\"\"\n",
    "        \n",
    "        probabilities = self.model.predict([utterance], return_proba=True)\n",
    "        intent_distribution = {label: prob for label, prob in zip(self.model.config.id2label, probabilities[0])}\n",
    "        \n",
    "        return intent_distribution"
   ]
  },
  {
   "cell_type": "code",
   "execution_count": 18,
   "metadata": {},
   "outputs": [],
   "source": [
    "import setfit, datasets\n",
    "from typing import List, Tuple, Dict\n",
    "\n",
    "class IntentClassifier:\n",
    "    def __init__(self, model_name=\"sentence-transformers/paraphrase-mpnet-base-v2\"):\n",
    "        \"\"\"Initialises the setfit model that will be used for the intent recognition\"\"\"\n",
    "        self.model = setfit.SetFitModel.from_pretrained(model_name)\n",
    "    \n",
    "    def train(self, labelled_utterances: List[Tuple[str, str]], num_epochs: int = 3):\n",
    "        \"\"\"Trains the setfit model on the labelled utterances\"\"\"\n",
    "        \n",
    "        # Prepare data\n",
    "        train_data = datasets.Dataset.from_list([{\"text\": utt, \"label\": label} \n",
    "                                                 for utt, label in labelled_utterances])\n",
    "        \n",
    "        # Extract texts and labels separately\n",
    "        x_train = train_data['text']\n",
    "        y_train = train_data['label']\n",
    "        \n",
    "        # Train the model\n",
    "        self.model.fit(x_train, y_train, num_epochs=num_epochs)\n",
    "    \n",
    "    def get_intent_distrib(self, utterance: str) -> Dict[str, float]:\n",
    "        \"\"\"Applies the trained model on a new utterance. The method should return a\n",
    "        dictionary that maps each possible intent category to a probability.\"\"\"\n",
    "        \n",
    "        probabilities = self.model.predict([utterance], return_proba=True)\n",
    "        intent_distribution = {label: prob for label, prob in zip(self.model.config.id2label, probabilities[0])}\n",
    "        \n",
    "        return intent_distribution"
   ]
  },
  {
   "cell_type": "code",
   "execution_count": 19,
   "metadata": {},
   "outputs": [
    {
     "name": "stderr",
     "output_type": "stream",
     "text": [
      "model_head.pkl not found on HuggingFace Hub, initialising classification head with random weights. You should TRAIN this model on a downstream task to use it for predictions and inference.\n"
     ]
    }
   ],
   "source": [
    "classifier = IntentClassifier()\n",
    "classifier.train(labelled_utterances)"
   ]
  },
  {
   "cell_type": "markdown",
   "metadata": {},
   "source": [
    "Since we don't have any test data, we cannot really conduct an evaluation of the classification performance, but this step would be of course strongly adviced when developing a real system. "
   ]
  },
  {
   "cell_type": "markdown",
   "metadata": {},
   "source": [
    "### Slot filling\n",
    "\n",
    "In addition to the intents themselves, we also wish to detect some slots, such as floor numbers or person names. For this step, we will not use a data-driven model, but rather rely on an old-fashioned, rule-based approach:\n",
    "- For floor numbers, we will rely on string matching (with regular expressions or basic string search) that detect patterns such as \"X floor\" (where X is [first,second, third, fourth, fifth, sixth, seventh, eighth, ninth, tenth]) or \"floor X\" (where X is between 1 and 10).\n",
    "- For person names, we have a predefined list of person names to detect (employees at IFI), and we should simply search for their occurrence in the user input. The simplest implementation is to just for look for exact occurrences. However, since speech recognition will often struggle to recognize foreign person names, an even better approach would be to search for names that are phonetically close (you can use the `jellyfish` library for this).\n",
    "\n",
    "The results of the slot filling should be a dictionary mapping slot names to a canonical form of the slot value. For instance, if the utterance contains the expression \"ninth floor\", the resulting slot dictionary should be `{\"floor_number\":9}`. Similarly, the `employee_name` slot should be a name present in `OFFICES` dictionary. \n",
    "\n",
    "__Task 1.4__ (2 points): Implement the method `fill_slots` that will detect the occurrence of those slots in the user input.<br>\n",
    "(+ 1 bonus point if you implement a fuzzy matching strategy to find person names that are phonetically close)"
   ]
  },
  {
   "cell_type": "code",
   "execution_count": 22,
   "metadata": {},
   "outputs": [],
   "source": [
    "import re\n",
    "import jellyfish\n",
    "from typing import Dict, Optional\n",
    "\n",
    "# Floor numbers for a subset of the IFI employees\n",
    "OFFICES = {\n",
    "    'Adín Ramírez Rivera': 4, 'Andreas Austeng': 4, 'Anne H Schistad Solberg': 4, \n",
    "    'Arild Torolv Søetorp Waaler': 9, 'Audun Jøsang': 9, 'Birthe Soppe': 4, \n",
    "    'Carsten Griwodz': 4, 'Dag Sjøberg': 9, 'Dag Trygve Eckhoff Wisland': 5, \n",
    "    'Einar Broch Johnsen': 8, 'Eric Bartley Jul': 10, 'Erik Velldal': 4, \n",
    "    'Henrik Skaug Sætra': 7, 'Ingrid Chieh Yu': 8, 'Jørn Anders Braa': 6, \n",
    "    'Kristin Bråthen': 4, 'Kyrre Glette': 4, 'Lars Groth': 6, 'Lilja Øvrelid': 4, \n",
    "    'Maja Van Der Velden': 7, 'Martin Giese': 9, 'Michael Welzl': 5, \n",
    "    'Miria Grisot': 6, 'Nils Gruschka': 9, 'Olaf Owe': 9, \n",
    "    'Ole Christian Lingjærde': 4, 'Ole Hanseth': 6, 'Paulo Ferreira': 10, \n",
    "    'Philipp Dominik Häfliger': 5, 'Philipp Häfliger': 5, 'Roman Vitenberg': 4, \n",
    "    'Silvia Lizeth Tapia Tarifa': 8, 'Stephan Oepen': 4, 'Sundeep Sahay': 6, \n",
    "    'Thomas Peter Plagemann': 4, 'Tone Bratteteig': 7, 'Torbjørn Rognes': 8, \n",
    "    'Truls Erikson': 6, 'Viktoria Stray': 10, 'Yngvar Berg': 5, \n",
    "    'Yves Scherrer': 4, 'Özgü Mira Alay-Erduran': 4\n",
    "}\n",
    "\n",
    "def fill_slots(user_input: str) -> Dict[str, Optional[str]]:\n",
    "    \"\"\"Extracts the set of slots detected in the user inputs. More precisely, the method\n",
    "    should detect both floor numbers and person names, and return a dictionary mapping slot \n",
    "    names (in this case either `floor_number` or `employee_name`) to its corresponding\n",
    "    value, in canonical form (integer for the floor number, string for the employee name)\"\"\"\n",
    "    \n",
    "    slots = {}\n",
    "\n",
    "    floor_patterns = [\n",
    "        r\"(?i)(first|second|third|fourth|fifth|sixth|seventh|eighth|ninth|tenth) floor\",  # Words\n",
    "        r\"(?i)floor (1|2|3|4|5|6|7|8|9|10)\"  # Numbers\n",
    "    ]\n",
    "\n",
    "    for pattern in floor_patterns:\n",
    "        match = re.search(pattern, user_input)\n",
    "        if match:\n",
    "            # Handle the word-based pattern\n",
    "            if match.group(0).startswith(('first', 'second', 'third', 'fourth', 'fifth', \n",
    "                                            'sixth', 'seventh', 'eighth', 'ninth', 'tenth')):\n",
    "                floor_number = ['first', 'second', 'third', 'fourth', 'fifth', \n",
    "                                'sixth', 'seventh', 'eighth', 'ninth', 'tenth'].index(match.group(0).split()[0]) + 1\n",
    "            else:\n",
    "                floor_number = int(match.group(0).split()[1])\n",
    "            slots['floor_number'] = floor_number\n",
    "            break\n",
    "\n",
    "    for name in OFFICES.keys():\n",
    "        if name.lower() in user_input.lower():\n",
    "            slots['employee_name'] = name\n",
    "            break\n",
    "\n",
    "    if 'employee_name' not in slots:\n",
    "        for name in OFFICES.keys():\n",
    "            if jellyfish.jaro_winkler_similarity(name.lower(), user_input.lower()) > 0.8:\n",
    "                slots['employee_name'] = name\n",
    "                break\n",
    "\n",
    "    return slots"
   ]
  },
  {
   "cell_type": "markdown",
   "metadata": {},
   "source": [
    "### Response selection\n",
    "\n",
    "The next step is to implement the response selection mechanism. The response will depend on various factors:\n",
    "- the inferred user intents from the user utterance\n",
    "- the detected slot values in the user utterance (if any)\n",
    "- the current floor\n",
    "- the list of next floor stops that are yet to be reached\n",
    "- the dialogue history (as a list of dialogue turns).\n",
    "\n",
    "The response may consist of verbal responses (enacted by calls to `_say_to_user`) but also physical actions, represented by calls to either `move_to_floor` or `stop`. \n",
    "\n",
    "__Task 1.5__ (3 points): Implement the method `_respond`, which is responsible for selecting and executing those responses. The responses should satisfy the aforementioned conversational criteria (provide grounding feedback, use confirmations and clarification requests etc.). This method will consist in practice of many _if...then...else_ blocks. "
   ]
  },
  {
   "cell_type": "code",
   "execution_count": 34,
   "metadata": {},
   "outputs": [],
   "source": [
    "def _respond(self, intent_distrib: Dict[str, float], slots: Dict[str, str]):\n",
    "        \"\"\"Given a probability distribution over possible intents, an a (possibly empty) list\n",
    "        of detected slots in the user input, decide how to react. The method should lead\n",
    "        to calls to both physical actions (move_to_floor, stop) and dialogue responses \n",
    "        (via _say_to_user).\"\"\"\n",
    "        \n",
    "        intent = max(intent_distrib, key=intent_distrib.get, default=None)\n",
    "        if intent == 'move_to_floor':\n",
    "            if 'floor_number' in slots:\n",
    "                target_floor = slots['floor_number']\n",
    "                if target_floor == self.current_floor:\n",
    "                    self._say_to_user(\"You are already on this floor.\")\n",
    "                elif target_floor in self.next_floors:\n",
    "                    self.move_to_floor(target_floor)\n",
    "                    self.stop()\n",
    "                    self._say_to_user(f\"Arrived at floor {target_floor}.\")\n",
    "                    self.dialogue_history.append(f\"Moved to floor {target_floor}.\")\n",
    "                else:\n",
    "                    self._say_to_user(f\"I'm sorry, but floor {target_floor} is not on the list of next stops.\")\n",
    "            else:\n",
    "                self._say_to_user(\"Which floor would you like to go to?\")\n",
    "\n",
    "        elif intent == 'ask_next_floors':\n",
    "            if self.next_floors:\n",
    "                floors_str = ', '.join(str(floor) for floor in self.next_floors)\n",
    "                self._say_to_user(f\"The next stops are: {floors_str}.\")\n",
    "            else:\n",
    "                self._say_to_user(\"There are no more stops scheduled.\")\n",
    "\n",
    "        elif intent == 'clarification_request':\n",
    "            self._say_to_user(\"Could you please clarify your request?\")\n",
    "        \n",
    "        else:\n",
    "            self._say_to_user(\"I didn't quite understand that. Can you please repeat?\")\n",
    "\n",
    "        # Record dialogue history\n",
    "        self.dialogue_history.append(f\"User said: {slots}\")\n",
    "\n",
    "setattr(TalkingElevator, \"_respond\", _respond)"
   ]
  },
  {
   "cell_type": "markdown",
   "metadata": {},
   "source": [
    "### Putting it all together\n",
    "\n",
    "The last step is to implement the `process_input` method in the `TalkingElevator` class. The method should rely on the intent recognition, slot filling and response selection mechanism (which you have implemented in the previous steps) to react to a given user input.\n",
    "\n",
    "**Task 1.6** (1 point): Implement the `process_input` method:"
   ]
  },
  {
   "cell_type": "code",
   "execution_count": 35,
   "metadata": {},
   "outputs": [],
   "source": [
    "def process_input(self, user_input: str, conf_score: float = 1.0):\n",
    "    \"\"\"Processes the (transcribed) user input, and respond appropriately \n",
    "    (through a verbal response and possibly also an action, such as moving floors).\n",
    "    The method should rely on the intent classifier, slot-filling function, and\n",
    "    response selection function.\"\"\"\n",
    "    \n",
    "    self._add_to_dialogue_history(user_input, speaker=\"user\", conf_score=conf_score)\n",
    "    intent_distrib = self.intent_recognition(user_input)\n",
    "    slots = self.fill_slots(user_input)\n",
    "    self._respond(intent_distrib, slots)\n",
    "    \n",
    "setattr(TalkingElevator, \"process_input\", process_input)"
   ]
  },
  {
   "cell_type": "markdown",
   "metadata": {},
   "source": [
    "We are now ready to test our talking elevator: \n"
   ]
  },
  {
   "cell_type": "code",
   "execution_count": null,
   "metadata": {},
   "outputs": [],
   "source": [
    "elevator = TalkingElevator()"
   ]
  },
  {
   "cell_type": "markdown",
   "metadata": {},
   "source": [
    "Your talking elevator will mostly likely not function properly right from the start. Identify what works and what doesn't and correct the code you have developed in Tasks 1.1 - 1.6 until your system meets the specifications we have outlined. "
   ]
  },
  {
   "cell_type": "markdown",
   "metadata": {},
   "source": [
    "## Part 2 : Machine translation\n",
    "\n",
    "In this part, we evaluate a pre-trained machine translation model on data from the Lord of the Rings movies and fine-tune it to improve the translation quality.\n",
    "\n",
    "### Data\n",
    "\n",
    "We provide you with two files, `lotr.detok.de` and `lotr.detok.en`, containing German and English movie subtitles. These two files constitute a so-called _parallel corpus_, i.e. each sentence/line in German corresponds to a sentence/line in English. The two files have the same number of lines and the German sentence on line $i$ corresponds to the English sentence on line $i$. The subtitles are extracted from the [OpenSubtitles-2018](https://opus.nlpl.eu/OpenSubtitles/corpus/version/OpenSubtitles) corpus.\n",
    "\n",
    "Here are the first ten lines of the two files:\n",
    "\n",
    "<style scoped>\n",
    "table {\n",
    "  font-size: 12px;\n",
    "}\n",
    "</style>\n",
    "| Nb  | German (`lotr.detok.de`)         | English (`lotr.detok.en`)      |\n",
    "|---|----------------------------------|--------------------------------|\n",
    "| 1 | Die Welt ist im Wandel. | The world is changed.   |\n",
    "| 2 | Ich spüre es im Wasser. | I feel it in the water. |\n",
    "| 3 | Ich spüre es in der Erde. | I feel it in the earth. |\n",
    "| 4 | Ich rieche es in der Luft. | I smell it in the air. |\n",
    "| 5 | Vieles, was einst war, ist verloren, da niemand mehr lebt, der sich erinnert. | Much that once was is lost. For none now live who remember it. |\n",
    "| 6 | Es begann mit dem Schmieden der Großen Ringe. | It began with the forging of the Great Rings. |\n",
    "| 7 | 3 wurden den Elben gegeben, den unsterblichen, weisesten und reinsten aller Wesen. | Three were given to the Elves: Immortal, wisest and fairest of all beings. |\n",
    "| 8 | 7 den Zwergenherrschern, großen Bergleuten und Handwerkern in ihren Hallen aus Stein. | Seven to the Dwarf-lords: Great miners and craftsmen of the mountain halls. |\n",
    "| 9 | Und 9... 9 Ringe wurden den Menschen geschenkt, die vor allem anderen nach Macht streben. | And nine nine rings were gifted to the race of Men who, above all else, desire power. |\n",
    "| 10 | Denn diese Ringe bargen die Kraft und den Willen, jedes Volk zu leiten. | For within these rings was bound the strength and will to govern each race. |\n"
   ]
  },
  {
   "cell_type": "markdown",
   "metadata": {},
   "source": [
    "### Getting started\n",
    "\n",
    "We will a pretrained machine translation model for German-to-English translation. The model is available on the HuggingFace model hub and can be used with the `transformers` library.\n",
    "\n",
    "Let us first make sure that all required modules are installed:"
   ]
  },
  {
   "cell_type": "code",
   "execution_count": null,
   "metadata": {},
   "outputs": [],
   "source": [
    "# %pip install torch transformers accelerate evaluate sacrebleu sacremoses sentencepiece unbabel-comet"
   ]
  },
  {
   "cell_type": "markdown",
   "metadata": {},
   "source": [
    "The bilingual model is called [`opus-mt-de-en`](https://huggingface.co/Helsinki-NLP/opus-mt-de-en) and has been trained by the Helsinki-NLP group. Like (almost) all HuggingFace models, it consists of a _tokenizer_ and the _sequence-to-sequence model_ properly speaking. We need to load both separately:"
   ]
  },
  {
   "cell_type": "code",
   "execution_count": 1,
   "metadata": {},
   "outputs": [
    {
     "name": "stderr",
     "output_type": "stream",
     "text": [
      "/fp/projects01/ec30/software/easybuild/software/nlpl-pytorch/2.1.2-foss-2022b-cuda-12.0.0-Python-3.10.8/lib/python3.10/site-packages/torch/_utils.py:831: UserWarning: TypedStorage is deprecated. It will be removed in the future and UntypedStorage will be the only storage class. This should only matter to you if you are using storages directly.  To access UntypedStorage directly, use tensor.untyped_storage() instead of tensor.storage()\n",
      "  return self.fget.__get__(instance, owner)()\n"
     ]
    }
   ],
   "source": [
    "import transformers\n",
    "\n",
    "tokenizer = transformers.AutoTokenizer.from_pretrained(\"helsinki-nlp/opus-mt-de-en\")\n",
    "translator = transformers.AutoModelForSeq2SeqLM.from_pretrained(\"helsinki-nlp/opus-mt-de-en\")\n",
    "\n",
    "# Change \"cuda\" to \"cpu\" if you're running on a machine without GPU\n",
    "device = \"cpu\"\n",
    "translator = translator.to(device)"
   ]
  },
  {
   "cell_type": "markdown",
   "metadata": {},
   "source": [
    "The `transformers` library will automatically download the models from the HuggingFace hub the first time you run this cell, so it may take a bit longer.\n",
    "\n",
    "Let's take the first two German sentences, tokenize them, and translate them to English:"
   ]
  },
  {
   "cell_type": "code",
   "execution_count": 2,
   "metadata": {},
   "outputs": [
    {
     "name": "stdout",
     "output_type": "stream",
     "text": [
      "{'input_ids': tensor([[   55,   401,    29,    49,  9012,     3,     0, 58100, 58100],\n",
      "        [  105,  2768,  1691,    18,    65,    49,   672,     3,     0]]), 'attention_mask': tensor([[1, 1, 1, 1, 1, 1, 1, 0, 0],\n",
      "        [1, 1, 1, 1, 1, 1, 1, 1, 1]])}\n"
     ]
    }
   ],
   "source": [
    "tokens = tokenizer([\"Die Welt ist im Wandel.\", \"Ich spüre es im Wasser.\"], return_tensors=\"pt\", padding=True)\n",
    "print(tokens)"
   ]
  },
  {
   "cell_type": "code",
   "execution_count": 3,
   "metadata": {},
   "outputs": [
    {
     "name": "stdout",
     "output_type": "stream",
     "text": [
      "tensor([[58100,    36,   360,    19,  7315,     3,     0, 58100, 58100, 58100],\n",
      "        [58100,    38,    85,  1595,    56,     5,     4,   616,     3,     0]])\n"
     ]
    }
   ],
   "source": [
    "outputs = translator.generate(**tokens.to(device), max_new_tokens=50)\n",
    "print(outputs)"
   ]
  },
  {
   "cell_type": "markdown",
   "metadata": {},
   "source": [
    "__Task 2.1__ (1 point):\n",
    "- What do the numbers in the `input_ids` represent?\n",
    "    - The numbers in the input_ids tensor represent the tokenized input sentences. Each unique word or subword from the sentences is mapped to a specific integer ID according to the tokenizer's vocabulary. For example in the first output, the first row corresponds to the tokenized sentence \"Die Welt ist im Wandel.\"\n",
    "\n",
    "- What is the effect of `padding=True`? How would the data look like if padding was disabled?\n",
    "    - With `padding=True` we ensures that all sequences in the batch are of the same length by adding padding tokens (usually represented by 0 or another designated ID) to shorter sequences. This is crucial for batch processing, as many models require fixed-size inputs. Here, the input_ids would not include the padding tokens, and the sequences would have varying lengths.\n",
    "\n",
    "- What does `max_new_tokens` do? Why do you think it is important to set this parameter?\n",
    "    - The `max_new_tokens` parameter specifies the maximum number of new tokens the model can generate during the translation process. It's important basically for controlling the length of the output and ensuring it does not exceed a certain limit."
   ]
  },
  {
   "cell_type": "markdown",
   "metadata": {},
   "source": [
    "We can get actual words by running the output through the `batch_decode` function of the tokenizer:"
   ]
  },
  {
   "cell_type": "code",
   "execution_count": 4,
   "metadata": {},
   "outputs": [
    {
     "name": "stdout",
     "output_type": "stream",
     "text": [
      "['The world is changing.', 'I can feel it in the water.']\n"
     ]
    }
   ],
   "source": [
    "translations = tokenizer.batch_decode(outputs, skip_special_tokens=True)\n",
    "print(translations)"
   ]
  },
  {
   "cell_type": "markdown",
   "metadata": {},
   "source": [
    "__Note:__ We assume that you will run the translations from German to English. If you would like to work on the opposite translation direction (and feel comfortable evaluating the German output), you are welcome to do so. The corresponding bilingual model is called `opus-mt-en-de`."
   ]
  },
  {
   "cell_type": "code",
   "execution_count": 5,
   "metadata": {},
   "outputs": [
    {
     "name": "stdout",
     "output_type": "stream",
     "text": [
      "{'input_ids': tensor([[   36,   360,    19,  7315,     3,     0, 58100, 58100, 58100],\n",
      "        [   38,    85,  1595,    56,     5,     4,   616,     3,     0]]), 'attention_mask': tensor([[1, 1, 1, 1, 1, 1, 0, 0, 0],\n",
      "        [1, 1, 1, 1, 1, 1, 1, 1, 1]])}\n"
     ]
    }
   ],
   "source": [
    "import transformers\n",
    "\n",
    "tokenizer = transformers.AutoTokenizer.from_pretrained(\"helsinki-nlp/opus-mt-en-de\")\n",
    "translator = transformers.AutoModelForSeq2SeqLM.from_pretrained(\"helsinki-nlp/opus-mt-en-de\")\n",
    "\n",
    "device = \"cpu\"\n",
    "translator = translator.to(device)\n",
    "\n",
    "tokens = tokenizer([\"The world is changing.\", \"I can feel it in the water.\"], return_tensors=\"pt\", padding=True)\n",
    "print(tokens)"
   ]
  },
  {
   "cell_type": "code",
   "execution_count": 6,
   "metadata": {},
   "outputs": [
    {
     "name": "stdout",
     "output_type": "stream",
     "text": [
      "tensor([[58100,    55,   401,  6190,    63,     3,     0, 58100, 58100, 58100],\n",
      "        [58100,   105,  2768,  1691,    18,    65,    49,   672,     3,     0]])\n"
     ]
    }
   ],
   "source": [
    "outputs = translator.generate(**tokens.to(device), max_new_tokens=50)\n",
    "print(outputs)"
   ]
  },
  {
   "cell_type": "code",
   "execution_count": 7,
   "metadata": {},
   "outputs": [
    {
     "name": "stdout",
     "output_type": "stream",
     "text": [
      "['Die Welt verändert sich.', 'Ich spüre es im Wasser.']\n"
     ]
    }
   ],
   "source": [
    "translations = tokenizer.batch_decode(outputs, skip_special_tokens=True)\n",
    "print(translations)"
   ]
  },
  {
   "cell_type": "markdown",
   "metadata": {},
   "source": [
    "### Data splitting\n",
    "\n",
    "Before we move on, we need to split our data. We will evaluate different models and for that we'll need test data. We will also fine-tune a model, and for that we'll need training data. The entire Lord of the Rings dataset has 9640 lines.\n",
    "\n",
    "__Task 2.2__ (1 point): Split the dataset in such a way that the **last** 1000 lines are used for testing and the remaining lines (8640) for training. Save the data under the following filenames: `lotr.train.de, lotr.train.en, lotr.test.de, lotr.test.en`. You can use Python code or other tools to perform the splitting."
   ]
  },
  {
   "cell_type": "code",
   "execution_count": 8,
   "metadata": {},
   "outputs": [
    {
     "name": "stdout",
     "output_type": "stream",
     "text": [
      "Total lines: 9640\n"
     ]
    }
   ],
   "source": [
    "with open('lotr.detok.de', 'r', encoding='utf-8') as f:\n",
    "    german_lines = f.readlines()\n",
    "\n",
    "with open('lotr.detok.en', 'r', encoding='utf-8') as f:\n",
    "    english_lines = f.readlines()\n",
    "\n",
    "print(f'Total lines: {len(german_lines)}')"
   ]
  },
  {
   "cell_type": "code",
   "execution_count": 9,
   "metadata": {},
   "outputs": [],
   "source": [
    "train_german = german_lines[:-1000]\n",
    "test_german = german_lines[-1000:]\n",
    "\n",
    "train_english = english_lines[:-1000]\n",
    "test_english = english_lines[-1000:]\n",
    "\n",
    "# Saving\n",
    "with open('lotr.train.de', 'w', encoding='utf-8') as f:\n",
    "    f.writelines(train_german)\n",
    "\n",
    "with open('lotr.train.en', 'w', encoding='utf-8') as f:\n",
    "    f.writelines(train_english)\n",
    "\n",
    "with open('lotr.test.de', 'w', encoding='utf-8') as f:\n",
    "    f.writelines(test_german)\n",
    "\n",
    "with open('lotr.test.en', 'w', encoding='utf-8') as f:\n",
    "    f.writelines(test_english)"
   ]
  },
  {
   "cell_type": "markdown",
   "metadata": {},
   "source": [
    "__Task 2.3__ (1 point): What are potential risks and drawbacks of splitting the dataset in this way? \n"
   ]
  },
  {
   "cell_type": "markdown",
   "metadata": {},
   "source": [
    "Splitting a dataset it's not a greate idea because there are a lot of potential issues. One major concern is temporal bias, especially if the dataset is ordered chronologically; the last lines may not represent the same distribution as the earlier ones, leading to a model that performs poorly on the test data due to context or style differences. This method can cause data leakage if dependencies exist between the training and testing sets, inflating performance metrics and misguiding evaluations. This split also lacks randomness, which could lead to unbalanced representations of the data in both sets, increasing the risk of overfitting. Maybe we can use stratified sampling or random shuffling."
   ]
  },
  {
   "cell_type": "markdown",
   "metadata": {},
   "source": [
    "Now we are ready to translate the test set with our model.\n",
    "\n",
    "__Task 2.4__ (2 points): Create a function that loads the entire `lotr.test.de` file, translates each line with the `opus-mt-de-en` model and writes its output to a new file, one sentence per line.\n",
    "\n",
    "The easiest way to do this is to just load the entire test file into a list, tokenize and translate it, but the test set may be too large to fit on GPU memory, or it might be inefficient and slow if you use a CPU. A better alternative is to split the data into batches of 50-100 sentences and send each batch separately to the translator."
   ]
  },
  {
   "cell_type": "code",
   "execution_count": 10,
   "metadata": {},
   "outputs": [
    {
     "name": "stderr",
     "output_type": "stream",
     "text": [
      "Translating: 100%|██████████| 10/10 [24:08<00:00, 144.83s/it]\n"
     ]
    }
   ],
   "source": [
    "import transformers\n",
    "import torch\n",
    "from tqdm import tqdm\n",
    "\n",
    "def translate(input_file, translation_file, tokenizer, translator, batch_size=100):\n",
    "    \"\"\"Translate an input file line by line using the loaded tokenizer and translator,\n",
    "    and write the translations to output_file.\"\"\"\n",
    "    \n",
    "    with open(input_file, 'r', encoding='utf-8') as f:\n",
    "        lines = f.readlines()\n",
    "    translated_lines = []\n",
    "    total_batches = len(lines) // batch_size + (1 if len(lines) % batch_size != 0 else 0)\n",
    "\n",
    "    # tqdm for progress bar\n",
    "    for i in tqdm(range(0, len(lines), batch_size), total=total_batches, desc=\"Translating\"):\n",
    "        batch = lines[i:i + batch_size]\n",
    "        inputs = tokenizer(batch, return_tensors=\"pt\", padding=True, truncation=True)\n",
    "        inputs = {key: value.to(translator.device) for key, value in inputs.items()}\n",
    "        \n",
    "        with torch.no_grad():  # Disable gradient calculation\n",
    "            outputs = translator.generate(**inputs)\n",
    "\n",
    "        translated_batch = tokenizer.batch_decode(outputs, skip_special_tokens=True)\n",
    "        translated_lines.extend(translated_batch)\n",
    "\n",
    "    with open(translation_file, 'w', encoding='utf-8') as f:\n",
    "        for line in translated_lines:\n",
    "            f.write(line + '\\n')\n",
    "\n",
    "translate(\"lotr.test.de\", \"lotr.output_opus.en\", tokenizer, translator)"
   ]
  },
  {
   "cell_type": "markdown",
   "metadata": {},
   "source": [
    "Before moving on, open the output file and check that the translations look ok. In particular, the file should contain the expected number of lines and output should be in the expected language (English or German, depending on the chosen direction).\n",
    "\n",
    "__Task 2.5__ (1 point): Open both the output file and the reference translations (`lotr.test.en` if translating from German to English) and compare the first 20 lines. How would you rate the translations of the OPUS system on a scale from 1 (incomprehensible and/or completely different meaning) to 5 (grammatically correct and meaning fully preserved)? Justify your answer."
   ]
  },
  {
   "cell_type": "markdown",
   "metadata": {},
   "source": [
    "I'm giving a 3/5 because the OPUS translations for the first 20 lines of the German text generally convey the intended meaning, but they fall short of fully preserving the nuances and fluidity expected in high-quality translations. Many phrases are translated too literally, resulting in awkward or unnatural English that disrupts readability. While the grammar is mostly correct, certain sentences contain structural issues, leading to somewhat fragmented output that affects fluency."
   ]
  },
  {
   "cell_type": "markdown",
   "metadata": {},
   "source": [
    "### Evaluation\n",
    "\n",
    "We can now evaluate the quality of our translations. In a first step, we perform _reference-based surface-level evaluation_  using the popular BLEU score. We can do that with the `sacrebleu` module. Below is a slightly reformatted example taken from the [SacreBLEU documentation](https://github.com/mjpost/sacrebleu/tree/master?tab=readme-ov-file#using-sacrebleu-from-python):"
   ]
  },
  {
   "cell_type": "code",
   "execution_count": 11,
   "metadata": {},
   "outputs": [
    {
     "name": "stdout",
     "output_type": "stream",
     "text": [
      "BLEU = 45.07 70.6/42.9/36.4/37.5 (BP = 1.000 ratio = 1.000 hyp_len = 17 ref_len = 17)\n"
     ]
    }
   ],
   "source": [
    "from sacrebleu.metrics import BLEU\n",
    "\n",
    "reference = ['The dog bit the man.', 'It was not unexpected.', 'The man bit him first.']\n",
    "hypothesis = ['The dog bit the man.', \"It wasn't surprising.\", 'The man had just bitten him.']\n",
    "\n",
    "bleu_scorer = BLEU()\n",
    "# BLEU can deal with multiple references per sentence, but here we only have one, so we just enclose it in another set of brackets:\n",
    "score = bleu_scorer.corpus_score(hypothesis, [reference])\n",
    "print(score)"
   ]
  },
  {
   "cell_type": "markdown",
   "metadata": {},
   "source": [
    "__Task 2.6__ (1 point): Load both the system output and the reference of your test set and compute the corpus-level BLEU score. Also compute the corpus-level chrF score. Which of the scores is higher?"
   ]
  },
  {
   "cell_type": "code",
   "execution_count": 12,
   "metadata": {},
   "outputs": [
    {
     "name": "stdout",
     "output_type": "stream",
     "text": [
      "Corpus-level BLEU score: 0.98\n",
      "Corpus-level chrF score: 14.60\n"
     ]
    }
   ],
   "source": [
    "from sacrebleu.metrics import BLEU, CHRF\n",
    "\n",
    "def evaluate_bleu_chrf(hypothesis_file, reference_file):\n",
    "    bleu = BLEU()\n",
    "    chrf = CHRF()\n",
    "    \n",
    "    with open(hypothesis_file, 'r', encoding='utf-8') as hyp_file:\n",
    "        hypotheses = [line.strip() for line in hyp_file.readlines()]\n",
    "    with open(reference_file, 'r', encoding='utf-8') as ref_file:\n",
    "        references = [line.strip() for line in ref_file.readlines()]\n",
    "    \n",
    "    # scores\n",
    "    bleu_score = bleu.corpus_score(hypotheses, [references]).score\n",
    "    chrf_score = chrf.corpus_score(hypotheses, [references]).score\n",
    "    print(f\"Corpus-level BLEU score: {bleu_score:.2f}\")\n",
    "    print(f\"Corpus-level chrF score: {chrf_score:.2f}\")\n",
    "\n",
    "# Example usage\n",
    "evaluate_bleu_chrf(\"lotr.output_opus.en\", \"lotr.test.en\")"
   ]
  },
  {
   "cell_type": "markdown",
   "metadata": {},
   "source": [
    "Besides string-based metrics, neural metrics have become increasingly popular lately, since they have been shown to correlate better with human judgements. The most popular neural metric is called COMET and it can be used with the HuggingFace `evaluate` package. The example below is from the [documentation](https://huggingface.co/spaces/evaluate-metric/comet/blob/main/README.md):"
   ]
  },
  {
   "cell_type": "code",
   "execution_count": 13,
   "metadata": {},
   "outputs": [
    {
     "name": "stderr",
     "output_type": "stream",
     "text": [
      "2024-10-31 23:28:06.134433: E external/local_xla/xla/stream_executor/cuda/cuda_dnn.cc:9261] Unable to register cuDNN factory: Attempting to register factory for plugin cuDNN when one has already been registered\n",
      "2024-10-31 23:28:06.134508: E external/local_xla/xla/stream_executor/cuda/cuda_fft.cc:607] Unable to register cuFFT factory: Attempting to register factory for plugin cuFFT when one has already been registered\n",
      "2024-10-31 23:28:06.215823: E external/local_xla/xla/stream_executor/cuda/cuda_blas.cc:1515] Unable to register cuBLAS factory: Attempting to register factory for plugin cuBLAS when one has already been registered\n",
      "2024-10-31 23:28:06.288310: I tensorflow/core/platform/cpu_feature_guard.cc:182] This TensorFlow binary is optimized to use available CPU instructions in performance-critical operations.\n",
      "To enable the following instructions: AVX2 FMA, in other operations, rebuild TensorFlow with the appropriate compiler flags.\n",
      "2024-10-31 23:28:11.868374: W tensorflow/compiler/tf2tensorrt/utils/py_utils.cc:38] TF-TRT Warning: Could not find TensorRT\n"
     ]
    },
    {
     "data": {
      "application/vnd.jupyter.widget-view+json": {
       "model_id": "21a4463329ac458d9334fdcf8732b99f",
       "version_major": 2,
       "version_minor": 0
      },
      "text/plain": [
       "Downloading builder script:   0%|          | 0.00/6.97k [00:00<?, ?B/s]"
      ]
     },
     "metadata": {},
     "output_type": "display_data"
    },
    {
     "data": {
      "application/vnd.jupyter.widget-view+json": {
       "model_id": "14ee4fb89aef43d8adf77c6cb2fdfde1",
       "version_major": 2,
       "version_minor": 0
      },
      "text/plain": [
       "Fetching 5 files:   0%|          | 0/5 [00:00<?, ?it/s]"
      ]
     },
     "metadata": {},
     "output_type": "display_data"
    },
    {
     "data": {
      "application/vnd.jupyter.widget-view+json": {
       "model_id": "6798e8335dc245deaf52274e3ca5ea7f",
       "version_major": 2,
       "version_minor": 0
      },
      "text/plain": [
       "README.md:   0%|          | 0.00/3.53k [00:00<?, ?B/s]"
      ]
     },
     "metadata": {},
     "output_type": "display_data"
    },
    {
     "data": {
      "application/vnd.jupyter.widget-view+json": {
       "model_id": "ee2ebabaf63944648138a7a7c90e064e",
       "version_major": 2,
       "version_minor": 0
      },
      "text/plain": [
       "LICENSE:   0%|          | 0.00/9.69k [00:00<?, ?B/s]"
      ]
     },
     "metadata": {},
     "output_type": "display_data"
    },
    {
     "data": {
      "application/vnd.jupyter.widget-view+json": {
       "model_id": "18822ffd82ff4ecd89101c7ad08e1de5",
       "version_major": 2,
       "version_minor": 0
      },
      "text/plain": [
       ".gitattributes:   0%|          | 0.00/1.48k [00:00<?, ?B/s]"
      ]
     },
     "metadata": {},
     "output_type": "display_data"
    },
    {
     "data": {
      "application/vnd.jupyter.widget-view+json": {
       "model_id": "0d5e3fb9834a425c8ce11688af08fc02",
       "version_major": 2,
       "version_minor": 0
      },
      "text/plain": [
       "hparams.yaml:   0%|          | 0.00/567 [00:00<?, ?B/s]"
      ]
     },
     "metadata": {},
     "output_type": "display_data"
    },
    {
     "data": {
      "application/vnd.jupyter.widget-view+json": {
       "model_id": "d6a250b114034edd874068980cd0a005",
       "version_major": 2,
       "version_minor": 0
      },
      "text/plain": [
       "model.ckpt:   0%|          | 0.00/2.32G [00:00<?, ?B/s]"
      ]
     },
     "metadata": {},
     "output_type": "display_data"
    },
    {
     "name": "stderr",
     "output_type": "stream",
     "text": [
      "Lightning automatically upgraded your loaded checkpoint from v1.8.3.post1 to v2.4.0. To apply the upgrade to your files permanently, run `python -m pytorch_lightning.utilities.upgrade_checkpoint .cache/huggingface/hub/models--Unbabel--wmt22-comet-da/snapshots/371e9839ca4e213dde891b066cf3080f75ec7e72/checkpoints/model.ckpt`\n"
     ]
    },
    {
     "data": {
      "application/vnd.jupyter.widget-view+json": {
       "model_id": "545595cf4f594ad9ba580ad83576ee5a",
       "version_major": 2,
       "version_minor": 0
      },
      "text/plain": [
       "tokenizer_config.json:   0%|          | 0.00/25.0 [00:00<?, ?B/s]"
      ]
     },
     "metadata": {},
     "output_type": "display_data"
    },
    {
     "data": {
      "application/vnd.jupyter.widget-view+json": {
       "model_id": "659012fbb15e4c9396c605ac1d174354",
       "version_major": 2,
       "version_minor": 0
      },
      "text/plain": [
       "sentencepiece.bpe.model:   0%|          | 0.00/5.07M [00:00<?, ?B/s]"
      ]
     },
     "metadata": {},
     "output_type": "display_data"
    },
    {
     "data": {
      "application/vnd.jupyter.widget-view+json": {
       "model_id": "9114875ba8ef49e88b6d33fa5361cbc1",
       "version_major": 2,
       "version_minor": 0
      },
      "text/plain": [
       "tokenizer.json:   0%|          | 0.00/9.10M [00:00<?, ?B/s]"
      ]
     },
     "metadata": {},
     "output_type": "display_data"
    },
    {
     "data": {
      "application/vnd.jupyter.widget-view+json": {
       "model_id": "f2894e364fa64584b7ad92e697bf0a84",
       "version_major": 2,
       "version_minor": 0
      },
      "text/plain": [
       "config.json:   0%|          | 0.00/616 [00:00<?, ?B/s]"
      ]
     },
     "metadata": {},
     "output_type": "display_data"
    },
    {
     "name": "stderr",
     "output_type": "stream",
     "text": [
      "Encoder model frozen.\n",
      "/fp/homes01/u01/ec-elisao/.local/lib/python3.10/site-packages/pytorch_lightning/core/saving.py:195: Found keys that are not in the model state dict but in the checkpoint: ['encoder.model.embeddings.position_ids']\n",
      "/fp/homes01/u01/ec-elisao/.local/lib/python3.10/site-packages/lightning_fabric/plugins/environments/slurm.py:204: The `srun` command is available on your system but is not used. HINT: If your intention is to run Lightning on SLURM, prepend your python command with `srun` like so: srun python /cluster/software/EL9/easybuild/software/jupyter-ser ...\n",
      "GPU available: False, used: False\n",
      "TPU available: False, using: 0 TPU cores\n",
      "HPU available: False, using: 0 HPUs\n"
     ]
    },
    {
     "name": "stdout",
     "output_type": "stream",
     "text": [
      "{'mean_score': 0.9051420390605927, 'scores': [0.8385582566261292, 0.9717258214950562]}\n"
     ]
    }
   ],
   "source": [
    "import evaluate\n",
    "\n",
    "comet_metric = evaluate.load('comet')\n",
    "src = [\"Dem Feuer konnte Einhalt geboten werden\", \"Schulen und Kindergärten wurden eröffnet.\"]\n",
    "hyp = [\"The fire could be stopped\", \"Schools and kindergartens were open\"]\n",
    "ref = [\"They were able to control the fire.\", \"Schools and kindergartens opened\"]\n",
    "comet_score = comet_metric.compute(predictions=hyp, references=ref, sources=src)\n",
    "print(comet_score)"
   ]
  },
  {
   "cell_type": "markdown",
   "metadata": {},
   "source": [
    "__Task 2.7__ (1 point): Adapt this code to evaluate the output of the OPUS model. Note that COMET also requires the source text."
   ]
  },
  {
   "cell_type": "code",
   "execution_count": 14,
   "metadata": {},
   "outputs": [
    {
     "name": "stderr",
     "output_type": "stream",
     "text": [
      "/fp/homes01/u01/ec-elisao/.local/lib/python3.10/site-packages/lightning_fabric/plugins/environments/slurm.py:204: The `srun` command is available on your system but is not used. HINT: If your intention is to run Lightning on SLURM, prepend your python command with `srun` like so: srun python /cluster/software/EL9/easybuild/software/jupyter-ser ...\n",
      "GPU available: False, used: False\n",
      "TPU available: False, using: 0 TPU cores\n",
      "HPU available: False, using: 0 HPUs\n"
     ]
    },
    {
     "name": "stdout",
     "output_type": "stream",
     "text": [
      "COMET Score: {'mean_score': 0.7155076760649681, 'scores': [0.9114322662353516, 0.53718101978302, 0.7610780000686646, 0.7029255032539368, 0.9578304886817932, 0.8175437450408936, 0.4858451783657074, 0.8657262921333313, 0.6912862062454224, 0.4729771614074707, 0.6021385192871094, 0.5424554347991943, 0.3910665214061737, 0.6396649479866028, 0.7489166855812073, 0.8702802658081055, 0.8097953796386719, 0.9071325063705444, 0.6414850354194641, 0.7230848670005798, 0.47912877798080444, 0.6162793040275574, 0.7267097234725952, 0.7105870246887207, 0.8409775495529175, 0.7223947644233704, 0.7569881677627563, 0.32134532928466797, 0.5586471557617188, 0.7251235246658325, 0.5417190194129944, 0.5329115986824036, 0.8773753046989441, 0.43584537506103516, 0.27712786197662354, 0.3007590174674988, 0.5079101920127869, 0.5500727891921997, 0.44638609886169434, 0.4835907518863678, 0.8644341230392456, 0.7896643280982971, 0.5770344734191895, 0.8151125907897949, 0.9198241233825684, 0.6831172704696655, 0.4741860032081604, 0.7224752902984619, 0.9863395690917969, 0.6630553007125854, 0.35132843255996704, 0.6778611540794373, 0.8450377583503723, 0.9515135884284973, 0.44810745120048523, 0.9418677091598511, 0.7473584413528442, 0.6762450337409973, 0.8911690711975098, 0.949923574924469, 0.761603593826294, 0.8881892561912537, 0.3839484453201294, 0.3839484751224518, 0.8354959487915039, 0.914452314376831, 0.9267487525939941, 0.503730833530426, 0.8047158718109131, 0.9427231550216675, 0.650977373123169, 0.8047159910202026, 0.8393431901931763, 0.8516703844070435, 0.895231306552887, 0.8319423794746399, 0.8003106117248535, 0.7035136222839355, 0.856633186340332, 0.6960961222648621, 0.8028990030288696, 0.706769585609436, 0.8185423612594604, 0.6367453336715698, 0.5974968671798706, 0.7519834041595459, 0.745398998260498, 0.8942119479179382, 0.7029126286506653, 0.6580899953842163, 0.47164231538772583, 0.8361226320266724, 0.8826274275779724, 0.8375012278556824, 0.9683809876441956, 0.913105845451355, 0.9035552144050598, 0.8698633909225464, 0.7107378244400024, 0.5796542167663574, 0.844495952129364, 0.816622257232666, 0.9365454316139221, 0.5258277654647827, 0.437084823846817, 0.7542895078659058, 0.945695698261261, 0.5378971099853516, 0.6824676394462585, 0.8624036312103271, 0.9135701656341553, 0.8007862567901611, 0.5219739079475403, 0.5307996273040771, 0.7814494967460632, 0.8693946599960327, 0.7360509037971497, 0.6336894035339355, 0.8584676384925842, 0.7315868735313416, 0.5048729777336121, 0.8285876512527466, 0.4381687045097351, 0.6399379372596741, 0.6497232913970947, 0.8856318593025208, 0.4887057840824127, 0.7388824820518494, 0.949794352054596, 0.5110611915588379, 0.7401856780052185, 0.7878913283348083, 0.7290217876434326, 0.6932130455970764, 0.8530654907226562, 0.4400143623352051, 0.49727001786231995, 0.5635613203048706, 0.7872947454452515, 0.6567223072052002, 0.9392029047012329, 0.9830448627471924, 0.6285910606384277, 0.5772873163223267, 0.4949973225593567, 0.5956569910049438, 0.8964566588401794, 0.8396718502044678, 0.7100356817245483, 0.7532947063446045, 0.7532947063446045, 0.7776747941970825, 0.7718876004219055, 0.7455929517745972, 0.6771663427352905, 0.9138178825378418, 0.4426998496055603, 0.8303256034851074, 0.8603765964508057, 0.765381932258606, 0.5409450531005859, 0.5663526058197021, 0.33681410551071167, 0.7579317688941956, 0.7167643904685974, 0.6785057187080383, 0.724047839641571, 0.7045213580131531, 0.8042011260986328, 0.5977609157562256, 0.4679422378540039, 0.871837317943573, 0.6944518685340881, 0.601025402545929, 0.7674053311347961, 0.7375836372375488, 0.8522486686706543, 0.8565241098403931, 0.7753996849060059, 0.6617878675460815, 0.9057407379150391, 0.5359935164451599, 0.8035386800765991, 0.8339180946350098, 0.8977242708206177, 0.3706100583076477, 0.9021533727645874, 0.8761982321739197, 0.9564434885978699, 0.6698235869407654, 0.5235081315040588, 0.9439684152603149, 0.5892804861068726, 0.8216010332107544, 0.7511262893676758, 0.5126128792762756, 0.5954891443252563, 0.5199220776557922, 0.5464853048324585, 0.8962733149528503, 0.6653378009796143, 0.5785119533538818, 0.8563665151596069, 0.4725409150123596, 0.8807586431503296, 0.6139635443687439, 0.7262853384017944, 0.8081934452056885, 0.5216122269630432, 0.7354975342750549, 0.8178170323371887, 0.7519432306289673, 0.8711890578269958, 0.8954138159751892, 0.43741974234580994, 0.6735076904296875, 0.6927406191825867, 0.7468571662902832, 0.9143337607383728, 0.42667579650878906, 0.9065750241279602, 0.7616035342216492, 0.7446361184120178, 0.8396719694137573, 0.5915250778198242, 0.6910669207572937, 0.5383045673370361, 0.6546602249145508, 0.48716843128204346, 0.4420970380306244, 0.843010425567627, 0.8397876620292664, 0.48062121868133545, 0.6241860389709473, 0.6003831624984741, 0.4909908175468445, 0.8327463269233704, 0.7354857921600342, 0.5970600247383118, 0.5259323120117188, 0.49555733799934387, 0.3858843147754669, 0.4979204833507538, 0.8072904348373413, 0.5289039015769958, 0.6409558057785034, 0.5792957544326782, 0.7333251237869263, 0.7032467126846313, 0.7381578683853149, 0.46193915605545044, 0.8406444787979126, 0.46913081407546997, 0.5453153252601624, 0.8174720406532288, 0.8480549454689026, 0.6211627125740051, 0.4503854215145111, 0.7641531229019165, 0.7777607440948486, 0.9318921566009521, 0.6667996048927307, 0.9094643592834473, 0.6925702691078186, 0.7440412044525146, 0.6464128494262695, 0.6868489384651184, 0.8034533262252808, 0.9362747669219971, 0.983064591884613, 0.9107755422592163, 0.49225783348083496, 0.8308134078979492, 0.6615076065063477, 0.6190110445022583, 0.7251232266426086, 0.6731200814247131, 0.7418606877326965, 0.7089897394180298, 0.7146828174591064, 0.476487398147583, 0.7043282985687256, 0.8684823513031006, 0.8218860626220703, 0.9277011156082153, 0.8704695701599121, 0.521679699420929, 0.8907223343849182, 0.6580239534378052, 0.8199741244316101, 0.7805694341659546, 0.5429646372795105, 0.5056504607200623, 0.7778610587120056, 0.9501877427101135, 0.6992647647857666, 0.5844458937644958, 0.7029364109039307, 0.8544583320617676, 0.9144991040229797, 0.8046795129776001, 0.9168639183044434, 0.5396632552146912, 0.9154796600341797, 0.4951522946357727, 0.4412527084350586, 0.3440059423446655, 0.5317612290382385, 0.8596080541610718, 0.4340877830982208, 0.8907639980316162, 0.5978835821151733, 0.6581212282180786, 0.4448487162590027, 0.50641930103302, 0.8427293300628662, 0.7871809601783752, 0.4306221604347229, 0.8079811930656433, 0.776272177696228, 0.7528785467147827, 0.8451299667358398, 0.8920990824699402, 0.8578752279281616, 0.9181482791900635, 0.41476064920425415, 0.9221653938293457, 0.7377170324325562, 0.9306666254997253, 0.9706108570098877, 0.5087049603462219, 0.3345198631286621, 0.6554551124572754, 0.8222742080688477, 0.675218403339386, 0.7055991888046265, 0.4816521406173706, 0.4117462635040283, 0.7924434542655945, 0.6690274477005005, 0.32573893666267395, 0.9276021122932434, 0.5039322376251221, 0.9239680767059326, 0.41085150837898254, 0.6557937264442444, 0.5542788505554199, 0.8240529298782349, 0.7813777923583984, 0.4410918653011322, 0.9062435626983643, 0.7969640493392944, 0.7406469583511353, 0.5782638788223267, 0.6274700164794922, 0.5380803346633911, 0.5076524019241333, 0.5746723413467407, 0.6659804582595825, 0.7959251403808594, 0.7200778722763062, 0.6034370064735413, 0.8214170932769775, 0.5081831216812134, 0.27853596210479736, 0.6962229013442993, 0.8801772594451904, 0.8421404361724854, 0.7606020569801331, 0.41852784156799316, 0.4904612898826599, 0.8383086919784546, 0.8805268406867981, 0.5584539771080017, 0.5578489899635315, 0.7617269158363342, 0.5276590585708618, 0.4107293486595154, 0.6625868678092957, 0.5853863954544067, 0.8873571753501892, 0.8593496084213257, 0.6107079386711121, 0.9012770652770996, 0.8884679675102234, 0.8876422047615051, 0.3948249816894531, 0.6347485184669495, 0.8459870219230652, 0.8273552656173706, 0.4926224648952484, 0.7616034746170044, 0.6902559995651245, 0.7790705561637878, 0.732819139957428, 0.8377564549446106, 0.39656826853752136, 0.5680181980133057, 0.6033735275268555, 0.8802445530891418, 0.8265248537063599, 0.83379065990448, 0.665861964225769, 0.681461751461029, 0.7175658345222473, 0.720863938331604, 0.6265301704406738, 0.7812567949295044, 0.8267828822135925, 0.7751181721687317, 0.8743135333061218, 0.8728940486907959, 0.8581489324569702, 0.5814979672431946, 0.7613989114761353, 0.7316147089004517, 0.8213500380516052, 0.35169896483421326, 0.8703398704528809, 0.6818791031837463, 0.7153728604316711, 0.31149569153785706, 0.6484571695327759, 0.47445690631866455, 0.30976441502571106, 0.7623755931854248, 0.5831051468849182, 0.9136762619018555, 0.5655094385147095, 0.544991135597229, 0.5926651358604431, 0.6142727136611938, 0.9275960326194763, 0.7096209526062012, 0.4474625587463379, 0.5526542067527771, 0.4509679675102234, 0.6167618036270142, 0.8806008100509644, 0.8822377920150757, 0.9031466841697693, 0.7391557693481445, 0.7235612869262695, 0.700524628162384, 0.8655675649642944, 0.6230170726776123, 0.8972269296646118, 0.7484666705131531, 0.6301364302635193, 0.769645631313324, 0.7994656562805176, 0.6750442385673523, 0.7160114049911499, 0.9112735986709595, 0.5124372243881226, 0.3161509037017822, 0.7549317479133606, 0.795365571975708, 0.8135319352149963, 0.8185424208641052, 0.7594108581542969, 0.36893391609191895, 0.5490679144859314, 0.7912114262580872, 0.7206437587738037, 0.7972322702407837, 0.6588857173919678, 0.6166288256645203, 0.9295118451118469, 0.6984995007514954, 0.7207947969436646, 0.5289974212646484, 0.4385662078857422, 0.8701794743537903, 0.6828912496566772, 0.9706107974052429, 0.507010817527771, 0.7279677391052246, 0.5319198369979858, 0.6859821081161499, 0.6024266481399536, 0.7032837271690369, 0.6110572814941406, 0.6031894683837891, 0.7843255996704102, 0.4433743357658386, 0.9000185132026672, 0.9029804468154907, 0.8821565508842468, 0.7911543846130371, 0.9393355846405029, 0.8534994125366211, 0.6981950998306274, 0.39170804619789124, 0.573562741279602, 0.5412148237228394, 0.7729398012161255, 0.9135837554931641, 0.5532119870185852, 0.6932539343833923, 0.4708305895328522, 0.8657262325286865, 0.8831619024276733, 0.7007881999015808, 0.5625841617584229, 0.751829206943512, 0.5354133248329163, 0.8258106708526611, 0.7816652059555054, 0.643835186958313, 0.6801328659057617, 0.512052059173584, 0.8343440294265747, 0.5958592891693115, 0.7230186462402344, 0.851186215877533, 0.7743086814880371, 0.7230721116065979, 0.8967698216438293, 0.4630127549171448, 0.6523603796958923, 0.6542180776596069, 0.6796558499336243, 0.8720240592956543, 0.729678213596344, 0.6623694896697998, 0.8795071840286255, 0.6701111793518066, 0.8033671379089355, 0.6449602246284485, 0.7360564470291138, 0.862541913986206, 0.7943280339241028, 0.6162629127502441, 0.9363865852355957, 0.6309009194374084, 0.924493670463562, 0.7391598224639893, 0.9504321217536926, 0.9295660853385925, 0.8053792715072632, 0.9802058935165405, 0.6865644454956055, 0.6484460234642029, 0.7284782528877258, 0.9795013666152954, 0.7374464869499207, 0.33481529355049133, 0.8102720975875854, 0.8756728172302246, 0.36614730954170227, 0.9639922380447388, 0.9550579786300659, 0.9452309608459473, 0.7362000942230225, 0.8322667479515076, 0.9441711902618408, 0.3661472201347351, 0.8756728172302246, 0.3987497389316559, 0.770302414894104, 0.4406043589115143, 0.6162397265434265, 0.7510681748390198, 0.8102719783782959, 0.8262082934379578, 0.8613311052322388, 0.7740909457206726, 0.7391600012779236, 0.9521713852882385, 0.8240276575088501, 0.8050193786621094, 0.8050192594528198, 0.8682221174240112, 0.7498796582221985, 0.4048343598842621, 0.8756729364395142, 0.6175731420516968, 0.9029554128646851, 0.7156422138214111, 0.45627760887145996, 0.9034106731414795, 0.5051047801971436, 0.9104997515678406, 0.685213565826416, 0.6504685878753662, 0.8627845048904419, 0.6354986429214478, 0.4251402020454407, 0.9097167253494263, 0.8224788904190063, 0.7383219003677368, 0.7500625848770142, 0.6101744174957275, 0.8708475828170776, 0.7720332145690918, 0.5985534191131592, 0.6574652791023254, 0.7576306462287903, 0.604764461517334, 0.7460141181945801, 0.9474301338195801, 0.9456585645675659, 0.5022833347320557, 0.7946020364761353, 0.7678844332695007, 0.6552011370658875, 0.522999107837677, 0.7594276666641235, 0.910140335559845, 0.5255107879638672, 0.7875691652297974, 0.7957791090011597, 0.4875577986240387, 0.8086175322532654, 0.8338194489479065, 0.7561933398246765, 0.7132530808448792, 0.5998572111129761, 0.6585769057273865, 0.5686376690864563, 0.415702760219574, 0.5917391777038574, 0.9495092630386353, 0.9365306496620178, 0.7930908203125, 0.8237470388412476, 0.3196626603603363, 0.5327016711235046, 0.8774915337562561, 0.5863450765609741, 0.7261782884597778, 0.7418075799942017, 0.4409167766571045, 0.4088764488697052, 0.9135701656341553, 0.9154796600341797, 0.627839982509613, 0.4648858904838562, 0.675249457359314, 0.6733566522598267, 0.8616390824317932, 0.6170251965522766, 0.9034456610679626, 0.8381301164627075, 0.8381304144859314, 0.8388140201568604, 0.5614262223243713, 0.925233781337738, 0.48755815625190735, 0.7011788487434387, 0.45316773653030396, 0.7011792659759521, 0.8508247137069702, 0.9295118451118469, 0.8381304144859314, 0.7250242233276367, 0.8381304144859314, 0.6876147985458374, 0.8407818078994751, 0.7730695009231567, 0.8407819271087646, 0.4675716161727905, 0.7574968338012695, 0.9072263836860657, 0.8185423612594604, 0.701507568359375, 0.8528165221214294, 0.6345664858818054, 0.7791290879249573, 0.7841858863830566, 0.9830448627471924, 0.8302949666976929, 0.8302949666976929, 0.7629879713058472, 0.6707032918930054, 0.7064046859741211, 0.6693935394287109, 0.6949368119239807, 0.7351697683334351, 0.8175766468048096, 0.718311071395874, 0.9156696796417236, 0.5223480463027954, 0.9025750756263733, 0.8222785592079163, 0.8933481574058533, 0.7714987397193909, 0.8759421110153198, 0.7793000936508179, 0.8166429996490479, 0.5057364702224731, 0.992354154586792, 0.9051007032394409, 0.6989728212356567, 0.9020611047744751, 0.8629938364028931, 0.5815756916999817, 0.6783549189567566, 0.9086667895317078, 0.7251232862472534, 0.6248421669006348, 0.33438628911972046, 0.7832663655281067, 0.8306747674942017, 0.640271782875061, 0.38394835591316223, 0.9167546033859253, 0.9066264033317566, 0.8401931524276733, 0.4461609721183777, 0.3628726005554199, 0.7539425492286682, 0.38394850492477417, 0.9863395094871521, 0.7956336736679077, 0.743115246295929, 0.7653670310974121, 0.7286407351493835, 0.8596084117889404, 0.907989501953125, 0.5900081992149353, 0.7399046421051025, 0.8265799880027771, 0.9315832853317261, 0.5542789697647095, 0.8148058652877808, 0.8932451605796814, 0.928449273109436, 0.781431257724762, 0.5022836327552795, 0.8584860563278198, 0.8954578638076782, 0.8664894104003906, 0.8199925422668457, 0.5577353239059448, 0.594337522983551, 0.7772524356842041, 0.5502550005912781, 0.8478295803070068, 0.6962893009185791, 0.6896132826805115, 0.648699164390564, 0.8252478837966919, 0.9539365768432617, 0.9539365768432617, 0.7496328949928284, 0.7812731862068176, 0.7216183543205261, 0.7035850882530212, 0.9071270227432251, 0.8721975088119507, 0.5080651044845581, 0.8881598711013794, 0.8290001153945923, 0.7636610269546509, 0.6571863293647766, 0.9767876863479614, 0.5260956287384033, 0.6799854040145874, 0.9047064185142517, 0.8395582437515259, 0.9229791164398193, 0.6566157341003418, 0.351697713136673, 0.7951613068580627, 0.7813775539398193, 0.733453631401062, 0.7688610553741455, 0.945950984954834, 0.6899698972702026, 0.506737470626831, 0.7759973406791687, 0.656342089176178, 0.8817132711410522, 0.409104585647583, 0.9082496166229248, 0.8199267387390137, 0.4721139967441559, 0.9029167890548706, 0.24380546808242798, 0.6599555015563965, 0.76285719871521, 0.7785520553588867, 0.6069523096084595, 0.8558890223503113, 0.6840105056762695, 0.4918496608734131, 0.9552696347236633, 0.5391847491264343, 0.7948994040489197, 0.8805736899375916, 0.40505465865135193, 0.714990496635437, 0.6205870509147644, 0.9830448627471924, 0.7891387343406677, 0.798290491104126, 0.6231834888458252, 0.5859379768371582, 0.8925023674964905, 0.540622889995575, 0.8290185928344727, 0.4736989438533783, 0.4868157207965851, 0.81854248046875, 0.6497713923454285, 0.7918272018432617, 0.900143027305603, 0.36570799350738525, 0.8257238864898682, 0.8586140871047974, 0.9216635227203369, 0.3173198401927948, 0.7375640869140625, 0.8374452590942383, 0.237784743309021, 0.6159948110580444, 0.8893548250198364, 0.3582474887371063, 0.9830448627471924, 0.9830448627471924, 0.8185425400733948, 0.8185423612594604, 0.3089916706085205, 0.3582477569580078, 0.3582477271556854, 0.9938724637031555, 0.3089916706085205, 0.9706107974052429, 0.9706107974052429, 0.36266353726387024, 0.9938724637031555, 0.7233928442001343, 0.7891387343406677, 0.7186649441719055, 0.7186650037765503, 0.8361573815345764, 0.7711914777755737, 0.36266347765922546, 0.36266347765922546, 0.9012967348098755, 0.8186050653457642, 0.3811495900154114, 0.4097500145435333, 0.81854248046875, 0.584423303604126, 0.7329708337783813, 0.6540039777755737, 0.8240315318107605, 0.7006863951683044, 0.9206792712211609, 0.7652448415756226, 0.5573717951774597, 0.5424839854240417, 0.6770930290222168, 0.5472334623336792, 0.7545797824859619, 0.8897546529769897, 0.7259156107902527, 0.8672330379486084, 0.8723537921905518, 0.5711506605148315, 0.81854248046875, 0.9156694412231445, 0.81854248046875, 0.893393874168396, 0.7129020094871521, 0.9830448627471924, 0.9830448627471924, 0.8207888603210449, 0.7074902653694153, 0.5073580145835876, 0.5073578953742981, 0.6916306018829346, 0.990216076374054, 0.7031303644180298, 0.9110058546066284, 0.9397612810134888, 0.9185799360275269, 0.8687655925750732, 0.7158691883087158, 0.7256768345832825, 0.7185423970222473, 0.9119564294815063, 0.7564635276794434, 0.9493013024330139, 0.5505552291870117, 0.5429874062538147, 0.9863395094871521, 0.8662249445915222, 0.793095588684082, 0.8783036470413208, 0.7919066548347473, 0.7616034746170044, 0.8456835150718689, 0.3746584951877594, 0.9067426323890686, 0.8560377955436707, 0.7406030893325806, 0.7801269292831421, 0.6908785104751587, 0.7915583848953247, 0.5034741163253784, 0.875639021396637, 0.7420283555984497, 0.8271737694740295, 0.5227630734443665, 0.616127610206604, 0.797533392906189, 0.5617467164993286, 0.6495848298072815, 0.8849818706512451, 0.3577565848827362, 0.7698116898536682, 0.6483200788497925, 0.8419848680496216, 0.5518494844436646, 0.6939338445663452, 0.8212363123893738, 0.5400233864784241, 0.7092611789703369, 0.5116199851036072, 0.5870219469070435, 0.8149832487106323, 0.6997098922729492, 0.6680361032485962, 0.5971761345863342, 0.6438071727752686, 0.7103227972984314, 0.8739312887191772, 0.8480653166770935, 0.7827407121658325, 0.7447384595870972, 0.42769426107406616, 0.7880215048789978, 0.38587304949760437, 0.7053187489509583, 0.433668851852417, 0.7685108184814453, 0.9188018441200256, 0.8637346625328064, 0.8893144726753235, 0.4052240252494812, 0.9324301481246948, 0.5397224426269531, 0.8648704290390015, 0.9396293759346008, 0.43638455867767334, 0.5938265323638916, 0.3987908959388733, 0.5612486004829407, 0.7062983512878418, 0.6088657975196838, 0.5895266532897949, 0.3504160940647125, 0.7258285284042358, 0.7258284091949463, 0.8686113357543945, 0.9539687037467957, 0.49744126200675964, 0.8662647604942322, 0.9164538383483887, 0.941914439201355, 0.7653417587280273, 0.764634907245636, 0.7611808776855469, 0.5927679538726807, 0.7851842641830444, 0.6731711030006409, 0.6227037906646729, 0.8375012278556824, 0.6946791410446167, 0.8320227861404419, 0.7689893841743469, 0.5456118583679199, 0.5705162286758423, 0.6631112694740295, 0.8432725071907043, 0.8122010827064514, 0.6607223749160767, 0.7616037130355835, 0.9196006059646606, 0.6789748668670654, 0.889371395111084, 0.8750287294387817, 0.9374049305915833, 0.9739822149276733, 0.7176517248153687, 0.8441308736801147, 0.9919137358665466, 0.8273553848266602, 0.904056191444397, 0.43798214197158813, 0.8838120102882385, 0.8621634840965271, 0.8698428869247437, 0.8465422987937927, 0.9199547171592712, 0.9199547171592712]}\n"
     ]
    }
   ],
   "source": [
    "def evaluate_comet(hypothesis_file, reference_file, source_file):\n",
    "\n",
    "    with open(hypothesis_file, 'r', encoding='utf-8') as hyp_file:\n",
    "        hypotheses = [line.strip() for line in hyp_file.readlines()]\n",
    "    \n",
    "    with open(reference_file, 'r', encoding='utf-8') as ref_file:\n",
    "        references = [line.strip() for line in ref_file.readlines()]\n",
    "    \n",
    "    with open(source_file, 'r', encoding='utf-8') as src_file:\n",
    "        sources = [line.strip() for line in src_file.readlines()]\n",
    "    \n",
    "    comet_score = comet_metric.compute(predictions=hypotheses, references=references, sources=sources)\n",
    "    print(f\"COMET Score: {comet_score}\")\n",
    "\n",
    "# Example usage\n",
    "evaluate_comet(\"lotr.output_opus.en\", \"lotr.test.en\", \"lotr.test.de\")"
   ]
  },
  {
   "cell_type": "markdown",
   "metadata": {},
   "source": [
    "### Fine-tuning\n",
    "\n",
    "Let us see now if we can further improve the translation quality. We still haven't used the training set after all...\n",
    "\n",
    "Fine-tuning a translation model with the `transformers` library is a bit convoluted. You need the following ingredients:\n",
    "- A `Seq2SeqTrainer` object, which defines the initial model and its tokenizer, the training data, and the configuration parameters (as a `Seq2SeqTrainingArguments` object). The training process starts with the `train()` method.\n",
    "- A `Seq2SeqTrainingArguments` object, which contains the configuration parameters, such as the number of training epochs, the path for saving the fine-tuned model, the learning rate etc.\n",
    "- A `DataCollatorForSeq2Seq` object that takes care of splitting the training data into batches of appropriate size.\n",
    "- A `DatasetDict` object containing the tokenized training data. Typically, the untokenized data is loaded into a `DatasetDict` object, and the tokenization function is applied to everything inside this `DatasetDict` using the `map()` function.\n",
    "\n",
    "__Task 2.8__ (1 point): The code in the box below shows a working example using the pretrained OPUS model, but is limited to two sentence pairs. Complete the code to load the entire training data."
   ]
  },
  {
   "cell_type": "code",
   "execution_count": null,
   "metadata": {},
   "outputs": [],
   "source": [
    "# from transformers import Seq2SeqTrainingArguments, Seq2SeqTrainer\n",
    "# from transformers import DataCollatorForSeq2Seq\n",
    "# from datasets import Dataset, DatasetDict\n",
    "\n",
    "# max_length = 100\n",
    "\n",
    "# ds = Dataset.from_dict({\n",
    "#     \"src_text\": [\"Die Welt ist im Wandel.\", \"Ich spüre es im Wasser.\"],\n",
    "#     \"tgt_text\": [\"The world is changed.\", \"I feel it in the water.\"]\n",
    "# })\n",
    "# data = DatasetDict({\"train\": ds})\n",
    "\n",
    "# def preprocess_function(examples):\n",
    "#     model_inputs = tokenizer(examples[\"src_text\"], text_target=examples[\"tgt_text\"], max_length=max_length, truncation=True)\n",
    "#     return model_inputs\n",
    "\n",
    "# tokenized_datasets = data.map(preprocess_function, batched=True)\n",
    "# print(tokenized_datasets)\n",
    "\n",
    "# data_collator = DataCollatorForSeq2Seq(tokenizer, model=translator)\n",
    "\n",
    "# args = Seq2SeqTrainingArguments(\n",
    "#     output_dir=\"opus-mt-de-en-lotr\",\n",
    "#     evaluation_strategy=\"no\",\n",
    "#     save_strategy=\"epoch\",\n",
    "#     learning_rate=2e-5,\n",
    "#     per_device_train_batch_size=32,\n",
    "#     weight_decay=0.01,\n",
    "#     save_total_limit=3,\n",
    "#     num_train_epochs=3,\n",
    "#     predict_with_generate=True\n",
    "# )\n",
    "\n",
    "# trainer = Seq2SeqTrainer(\n",
    "#     translator,\n",
    "#     args,\n",
    "#     train_dataset=tokenized_datasets[\"train\"],\n",
    "#     data_collator=data_collator,\n",
    "#     tokenizer=tokenizer\n",
    "# )\n",
    "\n",
    "# trainer.train()"
   ]
  },
  {
   "cell_type": "code",
   "execution_count": 15,
   "metadata": {},
   "outputs": [
    {
     "data": {
      "application/vnd.jupyter.widget-view+json": {
       "model_id": "205c09da4c8641e3bb7c78c00b6b14c1",
       "version_major": 2,
       "version_minor": 0
      },
      "text/plain": [
       "Map:   0%|          | 0/8640 [00:00<?, ? examples/s]"
      ]
     },
     "metadata": {},
     "output_type": "display_data"
    },
    {
     "name": "stdout",
     "output_type": "stream",
     "text": [
      "DatasetDict({\n",
      "    train: Dataset({\n",
      "        features: ['src_text', 'tgt_text', 'input_ids', 'attention_mask', 'labels'],\n",
      "        num_rows: 8640\n",
      "    })\n",
      "})\n"
     ]
    },
    {
     "data": {
      "text/html": [
       "\n",
       "    <div>\n",
       "      \n",
       "      <progress value='810' max='810' style='width:300px; height:20px; vertical-align: middle;'></progress>\n",
       "      [810/810 25:45, Epoch 3/3]\n",
       "    </div>\n",
       "    <table border=\"1\" class=\"dataframe\">\n",
       "  <thead>\n",
       " <tr style=\"text-align: left;\">\n",
       "      <th>Step</th>\n",
       "      <th>Training Loss</th>\n",
       "    </tr>\n",
       "  </thead>\n",
       "  <tbody>\n",
       "    <tr>\n",
       "      <td>500</td>\n",
       "      <td>2.690500</td>\n",
       "    </tr>\n",
       "  </tbody>\n",
       "</table><p>"
      ],
      "text/plain": [
       "<IPython.core.display.HTML object>"
      ]
     },
     "metadata": {},
     "output_type": "display_data"
    },
    {
     "name": "stderr",
     "output_type": "stream",
     "text": [
      "Some non-default generation parameters are set in the model config. These should go into a GenerationConfig file (https://huggingface.co/docs/transformers/generation_strategies#save-a-custom-decoding-strategy-with-your-model) instead. This warning will be raised to an exception in v4.41.\n",
      "Non-default generation parameters: {'max_length': 512, 'num_beams': 4, 'bad_words_ids': [[58100]], 'forced_eos_token_id': 0}\n",
      "Some non-default generation parameters are set in the model config. These should go into a GenerationConfig file (https://huggingface.co/docs/transformers/generation_strategies#save-a-custom-decoding-strategy-with-your-model) instead. This warning will be raised to an exception in v4.41.\n",
      "Non-default generation parameters: {'max_length': 512, 'num_beams': 4, 'bad_words_ids': [[58100]], 'forced_eos_token_id': 0}\n",
      "Some non-default generation parameters are set in the model config. These should go into a GenerationConfig file (https://huggingface.co/docs/transformers/generation_strategies#save-a-custom-decoding-strategy-with-your-model) instead. This warning will be raised to an exception in v4.41.\n",
      "Non-default generation parameters: {'max_length': 512, 'num_beams': 4, 'bad_words_ids': [[58100]], 'forced_eos_token_id': 0}\n"
     ]
    },
    {
     "data": {
      "text/plain": [
       "TrainOutput(global_step=810, training_loss=2.516604953342014, metrics={'train_runtime': 1548.5583, 'train_samples_per_second': 16.738, 'train_steps_per_second': 0.523, 'total_flos': 248890269892608.0, 'train_loss': 2.516604953342014, 'epoch': 3.0})"
      ]
     },
     "execution_count": 15,
     "metadata": {},
     "output_type": "execute_result"
    }
   ],
   "source": [
    "from transformers import Seq2SeqTrainingArguments, Seq2SeqTrainer\n",
    "from transformers import DataCollatorForSeq2Seq\n",
    "from datasets import Dataset, DatasetDict\n",
    "\n",
    "max_length = 100\n",
    "\n",
    "with open(\"lotr.train.de\", \"r\", encoding=\"utf-8\") as src_file:\n",
    "    src_text = [line.strip() for line in src_file.readlines()]\n",
    "\n",
    "with open(\"lotr.train.en\", \"r\", encoding=\"utf-8\") as tgt_file:\n",
    "    tgt_text = [line.strip() for line in tgt_file.readlines()]\n",
    "\n",
    "ds = Dataset.from_dict({\"src_text\": src_text, \"tgt_text\": tgt_text})\n",
    "data = DatasetDict({\"train\": ds})\n",
    "\n",
    "def preprocess_function(examples):\n",
    "    model_inputs = tokenizer(\n",
    "        examples[\"src_text\"], text_target=examples[\"tgt_text\"],\n",
    "        max_length=max_length, truncation=True\n",
    "    )\n",
    "    return model_inputs\n",
    "\n",
    "# Tokenization\n",
    "tokenized_datasets = data.map(preprocess_function, batched=True)\n",
    "print(tokenized_datasets)\n",
    "\n",
    "data_collator = DataCollatorForSeq2Seq(tokenizer, model=translator)\n",
    "\n",
    "args = Seq2SeqTrainingArguments(\n",
    "    output_dir=\"opus-mt-de-en-lotr\",\n",
    "    evaluation_strategy=\"no\",\n",
    "    save_strategy=\"epoch\",\n",
    "    learning_rate=2e-5,\n",
    "    per_device_train_batch_size=32,\n",
    "    weight_decay=0.01,\n",
    "    save_total_limit=3,\n",
    "    num_train_epochs=3,\n",
    "    predict_with_generate=True\n",
    ")\n",
    "\n",
    "trainer = Seq2SeqTrainer(\n",
    "    translator,\n",
    "    args,\n",
    "    train_dataset=tokenized_datasets[\"train\"],\n",
    "    data_collator=data_collator,\n",
    "    tokenizer=tokenizer\n",
    ")\n",
    "\n",
    "trainer.train()"
   ]
  },
  {
   "cell_type": "markdown",
   "metadata": {},
   "source": [
    "The model was fine-tuned for three epochs, and you should have three checkpoints in the `opus-mt-de-en-lotr` directory.\n",
    "\n",
    "__Task 2.9__ (1 point): Choose one of the checkpoints and use it to translate the test set. Evaluate the test set with BLEU, chrF and COMET. Note that locally saved model files (and tokenizers) can be loaded in the same way as models from the HuggingFace hub, e.g. with the following command: `transformers.AutoModelForSeq2SeqLM.from_pretrained(\"opus-mt-de-en-lotr/checkpoint-810\")`\n",
    "\n",
    "Did fine-tuning help? Did fine-tuning help? Have a look at the first rows of the files. Do you agree with the metrics?"
   ]
  },
  {
   "cell_type": "code",
   "execution_count": 16,
   "metadata": {},
   "outputs": [
    {
     "name": "stderr",
     "output_type": "stream",
     "text": [
      "100%|██████████| 10/10 [03:01<00:00, 18.15s/it]\n"
     ]
    },
    {
     "data": {
      "application/vnd.jupyter.widget-view+json": {
       "model_id": "c54a0eb9db484dfeabf293cb02e1ce45",
       "version_major": 2,
       "version_minor": 0
      },
      "text/plain": [
       "Downloading builder script:   0%|          | 0.00/8.15k [00:00<?, ?B/s]"
      ]
     },
     "metadata": {},
     "output_type": "display_data"
    },
    {
     "data": {
      "application/vnd.jupyter.widget-view+json": {
       "model_id": "b11105eec2734090ae8370956875e014",
       "version_major": 2,
       "version_minor": 0
      },
      "text/plain": [
       "Downloading builder script:   0%|          | 0.00/9.01k [00:00<?, ?B/s]"
      ]
     },
     "metadata": {},
     "output_type": "display_data"
    },
    {
     "data": {
      "application/vnd.jupyter.widget-view+json": {
       "model_id": "1c6c81b891464afda5dc962e9e18f907",
       "version_major": 2,
       "version_minor": 0
      },
      "text/plain": [
       "Fetching 5 files:   0%|          | 0/5 [00:00<?, ?it/s]"
      ]
     },
     "metadata": {},
     "output_type": "display_data"
    },
    {
     "name": "stderr",
     "output_type": "stream",
     "text": [
      "Lightning automatically upgraded your loaded checkpoint from v1.8.3.post1 to v2.4.0. To apply the upgrade to your files permanently, run `python -m pytorch_lightning.utilities.upgrade_checkpoint .cache/huggingface/hub/models--Unbabel--wmt22-comet-da/snapshots/371e9839ca4e213dde891b066cf3080f75ec7e72/checkpoints/model.ckpt`\n",
      "Encoder model frozen.\n",
      "/fp/homes01/u01/ec-elisao/.local/lib/python3.10/site-packages/pytorch_lightning/core/saving.py:195: Found keys that are not in the model state dict but in the checkpoint: ['encoder.model.embeddings.position_ids']\n"
     ]
    }
   ],
   "source": [
    "import evaluate\n",
    "from transformers import AutoTokenizer, AutoModelForSeq2SeqLM\n",
    "\n",
    "checkpoint_path = \"opus-mt-de-en-lotr/checkpoint-540\"  # checkpoint\n",
    "tokenizer = transformers.AutoTokenizer.from_pretrained(checkpoint_path)\n",
    "translator = transformers.AutoModelForSeq2SeqLM.from_pretrained(checkpoint_path).to(\"cuda\" if torch.cuda.is_available() else \"cpu\")\n",
    "\n",
    "def translate_test_set(input_file, output_file, tokenizer, translator, batch_size=100):\n",
    "    with open(input_file, 'r', encoding='utf-8') as src_file:\n",
    "        src_lines = [line.strip() for line in src_file.readlines()]\n",
    "\n",
    "    translated_lines = []\n",
    "    for i in tqdm(range(0, len(src_lines), batch_size)):\n",
    "        batch = src_lines[i:i + batch_size]\n",
    "        inputs = tokenizer(batch, return_tensors=\"pt\", padding=True, truncation=True).to(translator.device)\n",
    "        with torch.no_grad():\n",
    "            outputs = translator.generate(**inputs)\n",
    "        translated_lines.extend(tokenizer.batch_decode(outputs, skip_special_tokens=True))\n",
    "\n",
    "    with open(output_file, 'w', encoding='utf-8') as out_file:\n",
    "        for line in translated_lines:\n",
    "            out_file.write(line + \"\\n\")\n",
    "\n",
    "translate_test_set(\"lotr.test.de\", \"lotr.finetuned_output.en\", tokenizer, translator)\n",
    "\n",
    "bleu = evaluate.load('sacrebleu')\n",
    "chrf = evaluate.load('chrf')\n",
    "comet = evaluate.load('comet')\n",
    "\n",
    "with open(\"lotr.finetuned_output.en\", 'r', encoding='utf-8') as hyp_file:\n",
    "    hypotheses = [line.strip() for line in hyp_file.readlines()]\n",
    "\n",
    "with open(\"lotr.test.en\", 'r', encoding='utf-8') as ref_file:\n",
    "    references = [line.strip() for line in ref_file.readlines()]\n",
    "\n",
    "with open(\"lotr.test.de\", 'r', encoding='utf-8') as src_file:\n",
    "    sources = [line.strip() for line in src_file.readlines()]"
   ]
  },
  {
   "cell_type": "code",
   "execution_count": 17,
   "metadata": {},
   "outputs": [
    {
     "name": "stdout",
     "output_type": "stream",
     "text": [
      "BLEU score: 12.78\n",
      "chrF score: 32.35\n"
     ]
    }
   ],
   "source": [
    "# Compute and print BLEU, chrF, and COMET scores\n",
    "flat_references = [ref for sublist in references for ref in sublist]\n",
    "\n",
    "bleu_score = bleu.compute(predictions=hypotheses, references=[[ref] for ref in references])  # Wrap references\n",
    "print(f\"BLEU score: {bleu_score['score']:.2f}\")\n",
    "\n",
    "chrf_score = chrf.compute(predictions=hypotheses, references=[[ref] for ref in references])\n",
    "print(f\"chrF score: {chrf_score['score']:.2f}\")\n",
    "\n",
    "#comet_score = comet.compute(predictions=hypotheses, references=flat_references, sources=sources)\n",
    "#print(f\"COMET score: {comet_score['score']:.2f}\")"
   ]
  },
  {
   "cell_type": "code",
   "execution_count": null,
   "metadata": {},
   "outputs": [],
   "source": [
    "# The evaluation of the fine-tuned translation model yielded a BLEU score of 12.78 and a chrF score of 32.35, suggesting modest performance.\n",
    "#While some sentences convey a sense of meaning, many translations exhibit grammatical errors and awkward phrasing, indicating a lack of fluency and coherence.\n",
    "#For example, phrases like \"This stone could overall his\" and \"The Arkenstone lieves in this halls\" demonstrate clear mistranslations and could confuse readers."
   ]
  }
 ],
 "metadata": {
  "kernelspec": {
   "display_name": "Python 3 (ipykernel)",
   "language": "python",
   "name": "python3"
  },
  "language_info": {
   "codemirror_mode": {
    "name": "ipython",
    "version": 3
   },
   "file_extension": ".py",
   "mimetype": "text/x-python",
   "name": "python",
   "nbconvert_exporter": "python",
   "pygments_lexer": "ipython3",
   "version": "3.10.8"
  }
 },
 "nbformat": 4,
 "nbformat_minor": 4
}
